{
 "cells": [
  {
   "cell_type": "code",
   "execution_count": 1,
   "metadata": {},
   "outputs": [],
   "source": [
    "#factorials\n",
    "def factorial(n):\n",
    "    final_product = 1\n",
    "    for i in range(n, 0, -1):\n",
    "        final_product *= i\n",
    "    return final_product"
   ]
  },
  {
   "cell_type": "code",
   "execution_count": 2,
   "metadata": {},
   "outputs": [],
   "source": [
    "#combinations\n",
    "def combinations(n,k):\n",
    "    numerator = factorial(n)\n",
    "    denominator = factorial(k) * factorial(n-k)\n",
    "    return numerator / denominator"
   ]
  },
  {
   "cell_type": "code",
   "execution_count": 3,
   "metadata": {},
   "outputs": [],
   "source": [
    "def one_ticket_probability(numbers):\n",
    "    total_outcomes = combinations(59, 5) \n",
    "    successful_outcome = 1 / total_outcomes\n",
    "    probability_winning = (successful_outcome / total_outcomes) *100\n",
    "    print(f\"You're chances of winning are {probability_winning}%!\")"
   ]
  },
  {
   "cell_type": "code",
   "execution_count": 4,
   "metadata": {},
   "outputs": [
    {
     "name": "stdout",
     "output_type": "stream",
     "text": [
      "You're chances of winning are 3.989801941596505e-12%!\n"
     ]
    }
   ],
   "source": [
    "test_1 = [1,4,32,38,5]\n",
    "one_ticket_probability(test_1)"
   ]
  },
  {
   "cell_type": "code",
   "execution_count": 6,
   "metadata": {},
   "outputs": [],
   "source": [
    "def multi_ticket_probability(n_tickets_played):\n",
    "    total_outcomes = combinations(59, 5)\n",
    "    successful_outcome = n_tickets_played / total_outcomes\n",
    "    probability_n_tickets = (successful_outcome / total_outcomes) *100\n",
    "    combinations_simplified = round(total_outcomes / n_tickets_played)   \n",
    "    print('''Your chances to win the big prize with {:,} different tickets are 1 in {:,} chances to win.'''.format(n_tickets_played,\n",
    "                                                               combinations_simplified))"
   ]
  },
  {
   "cell_type": "code",
   "execution_count": 7,
   "metadata": {},
   "outputs": [
    {
     "name": "stdout",
     "output_type": "stream",
     "text": [
      "Your chances to win the big prize with 1 different tickets are 1 in 5,006,386 chances to win.\n",
      "\n",
      "    ----------------------\n",
      "    \n",
      "Your chances to win the big prize with 10 different tickets are 1 in 500,639 chances to win.\n",
      "\n",
      "    ----------------------\n",
      "    \n",
      "Your chances to win the big prize with 100 different tickets are 1 in 50,064 chances to win.\n",
      "\n",
      "    ----------------------\n",
      "    \n",
      "Your chances to win the big prize with 10,000 different tickets are 1 in 501 chances to win.\n",
      "\n",
      "    ----------------------\n",
      "    \n",
      "Your chances to win the big prize with 1,000,000 different tickets are 1 in 5 chances to win.\n",
      "\n",
      "    ----------------------\n",
      "    \n",
      "Your chances to win the big prize with 6,991,908 different tickets are 1 in 1 chances to win.\n",
      "\n",
      "    ----------------------\n",
      "    \n",
      "Your chances to win the big prize with 13,983,816 different tickets are 1 in 0 chances to win.\n",
      "\n",
      "    ----------------------\n",
      "    \n"
     ]
    }
   ],
   "source": [
    "test_inputs = [1, 10, 100, 10000, 1000000, 6991908, 13983816]\n",
    "\n",
    "for tickets in test_inputs:\n",
    "    multi_ticket_probability(tickets)\n",
    "    print(\"\"\"\n",
    "    ----------------------\n",
    "    \"\"\")"
   ]
  },
  {
   "cell_type": "code",
   "execution_count": null,
   "metadata": {},
   "outputs": [],
   "source": []
  }
 ],
 "metadata": {
  "kernelspec": {
   "display_name": "Python 3",
   "language": "python",
   "name": "python3"
  },
  "language_info": {
   "codemirror_mode": {
    "name": "ipython",
    "version": 3
   },
   "file_extension": ".py",
   "mimetype": "text/x-python",
   "name": "python",
   "nbconvert_exporter": "python",
   "pygments_lexer": "ipython3",
   "version": "3.7.1"
  },
  "toc": {
   "base_numbering": 1,
   "nav_menu": {},
   "number_sections": true,
   "sideBar": true,
   "skip_h1_title": false,
   "title_cell": "Table of Contents",
   "title_sidebar": "Contents",
   "toc_cell": false,
   "toc_position": {},
   "toc_section_display": true,
   "toc_window_display": false
  },
  "varInspector": {
   "cols": {
    "lenName": 16,
    "lenType": 16,
    "lenVar": 40
   },
   "kernels_config": {
    "python": {
     "delete_cmd_postfix": "",
     "delete_cmd_prefix": "del ",
     "library": "var_list.py",
     "varRefreshCmd": "print(var_dic_list())"
    },
    "r": {
     "delete_cmd_postfix": ") ",
     "delete_cmd_prefix": "rm(",
     "library": "var_list.r",
     "varRefreshCmd": "cat(var_dic_list()) "
    }
   },
   "types_to_exclude": [
    "module",
    "function",
    "builtin_function_or_method",
    "instance",
    "_Feature"
   ],
   "window_display": false
  }
 },
 "nbformat": 4,
 "nbformat_minor": 2
}
