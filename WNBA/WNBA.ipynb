{
 "cells": [
  {
   "cell_type": "markdown",
   "metadata": {},
   "source": [
    "# WNBA\n",
    "\n",
    "The data set is about basketball players in WNBA (Women's National Basketball Association), and contains general information about players, along with their metrics for the season 2016-2017. The data set was put together by Thomas De Jonghe, and can be downloaded from Kaggle, where you can also find useful documentation for the data set.\n",
    "\n",
    "## Overview"
   ]
  },
  {
   "cell_type": "code",
   "execution_count": 103,
   "metadata": {},
   "outputs": [],
   "source": [
    "import pandas as pd\n",
    "import matplotlib.pyplot as plt\n",
    "import seaborn as sns\n",
    "\n",
    "wnba = pd.read_csv('wnba.csv')"
   ]
  },
  {
   "cell_type": "code",
   "execution_count": 2,
   "metadata": {},
   "outputs": [
    {
     "name": "stdout",
     "output_type": "stream",
     "text": [
      "              Name Team  Pos  Height  Weight        BMI Birth_Place  \\\n",
      "0    Aerial Powers  DAL    F     183    71.0  21.200991          US   \n",
      "1      Alana Beard   LA  G/F     185    73.0  21.329438          US   \n",
      "2     Alex Bentley  CON    G     170    69.0  23.875433          US   \n",
      "3  Alex Montgomery  SAN  G/F     185    84.0  24.543462          US   \n",
      "4     Alexis Jones  MIN    G     175    78.0  25.469388          US   \n",
      "\n",
      "           Birthdate  Age         College  ... OREB  DREB  REB  AST  STL  BLK  \\\n",
      "0   January 17, 1994   23  Michigan State  ...    6    22   28   12    3    6   \n",
      "1       May 14, 1982   35            Duke  ...   19    82  101   72   63   13   \n",
      "2   October 27, 1990   26      Penn State  ...    4    36   40   78   22    3   \n",
      "3  December 11, 1988   28    Georgia Tech  ...   35   134  169   65   20   10   \n",
      "4     August 5, 1994   23          Baylor  ...    3     9   12   12    7    0   \n",
      "\n",
      "   TO  PTS  DD2  TD3  \n",
      "0  12   93    0    0  \n",
      "1  40  217    0    0  \n",
      "2  24  218    0    0  \n",
      "3  38  188    2    0  \n",
      "4  14   50    0    0  \n",
      "\n",
      "[5 rows x 32 columns]\n"
     ]
    }
   ],
   "source": [
    "print(wnba.head())"
   ]
  },
  {
   "cell_type": "code",
   "execution_count": 3,
   "metadata": {},
   "outputs": [
    {
     "name": "stdout",
     "output_type": "stream",
     "text": [
      "                 Name Team  Pos  Height  Weight        BMI Birth_Place  \\\n",
      "138     Tiffany Hayes  ATL    G     178    70.0  22.093170          US   \n",
      "139   Tiffany Jackson   LA    F     191    84.0  23.025685          US   \n",
      "140  Tiffany Mitchell  IND    G     175    69.0  22.530612          US   \n",
      "141      Tina Charles   NY  F/C     193    84.0  22.550941          US   \n",
      "142     Yvonne Turner  PHO    G     175    59.0  19.265306          US   \n",
      "\n",
      "              Birthdate  Age         College  ... OREB  DREB  REB  AST  STL  \\\n",
      "138  September 20, 1989   27     Connecticut  ...   28    89  117   69   37   \n",
      "139      April 26, 1985   32           Texas  ...    5    18   23    3    1   \n",
      "140  September 23, 1984   32  South Carolina  ...   16    70   86   39   31   \n",
      "141        May 12, 1988   29     Connecticut  ...   56   212  268   75   21   \n",
      "142    October 13, 1987   29        Nebraska  ...   11    13   24   30   18   \n",
      "\n",
      "     BLK  TO  PTS  DD2  TD3  \n",
      "138    8  50  467    0    0  \n",
      "139    3   8   28    0    0  \n",
      "140    5  40  277    0    0  \n",
      "141   22  71  582   11    0  \n",
      "142    1  32  151    0    0  \n",
      "\n",
      "[5 rows x 32 columns]\n"
     ]
    }
   ],
   "source": [
    "print(wnba.tail())"
   ]
  },
  {
   "cell_type": "code",
   "execution_count": 4,
   "metadata": {},
   "outputs": [
    {
     "name": "stdout",
     "output_type": "stream",
     "text": [
      "(143, 32)\n"
     ]
    }
   ],
   "source": [
    "print(wnba.shape)"
   ]
  },
  {
   "cell_type": "markdown",
   "metadata": {},
   "source": [
    "## Sampling"
   ]
  },
  {
   "cell_type": "code",
   "execution_count": 5,
   "metadata": {},
   "outputs": [
    {
     "data": {
      "text/plain": [
       "32"
      ]
     },
     "execution_count": 5,
     "metadata": {},
     "output_type": "execute_result"
    }
   ],
   "source": [
    "# maximum number of games played by a player in the season 2016-2017\n",
    "parameter = wnba[\"Games Played\"].max()\n",
    "parameter"
   ]
  },
  {
   "cell_type": "code",
   "execution_count": 6,
   "metadata": {},
   "outputs": [
    {
     "data": {
      "text/plain": [
       "78     30\n",
       "116    29\n",
       "31     26\n",
       "5      14\n",
       "125    28\n",
       "45     20\n",
       "14      4\n",
       "44     28\n",
       "73     14\n",
       "89     20\n",
       "130    25\n",
       "53     20\n",
       "85     30\n",
       "93     27\n",
       "29     29\n",
       "16     20\n",
       "35      7\n",
       "90      9\n",
       "83     29\n",
       "19     29\n",
       "40     30\n",
       "92     30\n",
       "122    29\n",
       "98     30\n",
       "59     29\n",
       "42     28\n",
       "33     30\n",
       "99     24\n",
       "69     29\n",
       "97     21\n",
       "Name: Games Played, dtype: int64"
      ]
     },
     "execution_count": 6,
     "metadata": {},
     "output_type": "execute_result"
    }
   ],
   "source": [
    "#sample randomly 30 players from the population\n",
    "sample = wnba[\"Games Played\"].sample(30, random_state = 1)\n",
    "sample"
   ]
  },
  {
   "cell_type": "code",
   "execution_count": 7,
   "metadata": {},
   "outputs": [
    {
     "data": {
      "text/plain": [
       "30"
      ]
     },
     "execution_count": 7,
     "metadata": {},
     "output_type": "execute_result"
    }
   ],
   "source": [
    "#maximum number of games using the sample\n",
    "statistic = sample.max()\n",
    "statistic"
   ]
  },
  {
   "cell_type": "code",
   "execution_count": 8,
   "metadata": {},
   "outputs": [
    {
     "data": {
      "text/plain": [
       "2"
      ]
     },
     "execution_count": 8,
     "metadata": {},
     "output_type": "execute_result"
    }
   ],
   "source": [
    "#Measure the sampling error\n",
    "sampling_error = parameter - statistic\n",
    "sampling_error"
   ]
  },
  {
   "cell_type": "markdown",
   "metadata": {},
   "source": [
    "When we sample we want to minimize the sampling error as much as possible. We want our sample to mirror the population as closely as possible.\n",
    "\n",
    "If we sampled to measure the mean height of adults in the US, we'd like our sample statistic (sample mean height) to get as close as possible to the population's parameter (population mean height). For this to happen, we need the individuals in our sample to form a group that is similar in structure with the group forming the population.\n",
    "\n",
    "The US adult population is diverse, made of people of various heights. If we sampled 100 individuals from various basketball teams, then we'd almost certainly get a sample whose structure is significantly different than that of the population. As a consequence, we should expect a large sampling error (a large discrepancy between our sample's statistic (sample mean height) and the population's parameter (population mean height)).\n",
    "\n",
    "In statistical terms, we want our samples to be representative of their corresponding populations. If a sample is representative, then the sampling error is low. The more representative a sample is, the smaller the sampling error. The less representative a sample is, the greater the sampling error.\n",
    "\n",
    "To make our samples representative, we can try to give every individual in the population an equal chance to be selected in our samples. We want a very tall individual to have the same chance as being selected as an individual having a medium or short height. To give every individual an equal chance of being picked, we need to sample randomly - using a simple stratified sample\n",
    "\n",
    "### Simple Random Sampling"
   ]
  },
  {
   "cell_type": "code",
   "execution_count": 9,
   "metadata": {},
   "outputs": [
    {
     "data": {
      "text/plain": [
       "<matplotlib.lines.Line2D at 0x249bdbfa668>"
      ]
     },
     "execution_count": 9,
     "metadata": {},
     "output_type": "execute_result"
    },
    {
     "data": {
      "image/png": "[encoded data removed]",
      "text/plain": [
       "<Figure size 432x288 with 1 Axes>"
      ]
     },
     "metadata": {
      "needs_background": "light"
     },
     "output_type": "display_data"
    }
   ],
   "source": [
    "#visualize the discrepancy between a parameter and its corresponding statistics in the case of simple random sampling\n",
    "\n",
    "sample_means = []\n",
    "population_mean = wnba[\"PTS\"].mean()\n",
    "\n",
    "for x in range(100):\n",
    "        sample = wnba[\"PTS\"].sample(10, random_state = x)\n",
    "        sample_means.append(sample.mean())\n",
    "        \n",
    "plt.scatter(x = range(1,101), y = sample_means)\n",
    "plt.axhline(population_mean)"
   ]
  },
  {
   "cell_type": "markdown",
   "metadata": {},
   "source": [
    "We can notice that the sample means vary a lot around the population mean. With a minimum sample mean of 115 points, a maximum of 301.4, and a population mean of roughly 201.8, we can tell that the sampling error is quite large for some of the cases.\n",
    "\n",
    "Because sample means vary a lot around the population mean, there's a good chance we get a sample that is not representative of the population.\n",
    "\n",
    "This problem can be solved by increasing the sample size. As we increase the sample size, the sample means vary less around the population mean, and the chances of getting an unrepresentative sample decrease.\n",
    "\n",
    "\n",
    "Because simple random sampling is entirely random, it can leave out certain population individuals that are of great interest to some of the questions we may have.\n",
    "\n",
    "For example, players in basketball play in different positions on the court. The metrics of a player (number of points, number of assists, etc.) depend on their position, and we might want to analyze the patterns for each individual position. If we perform simple random sampling, there's a chance that some categories won't be included in our sample. In other words, it's not guaranteed that we'll have a representative sample that has observations for every position we want to analyze."
   ]
  },
  {
   "cell_type": "code",
   "execution_count": 10,
   "metadata": {},
   "outputs": [
    {
     "name": "stdout",
     "output_type": "stream",
     "text": [
      "['F' 'G/F' 'G' 'C' 'F/C']\n"
     ]
    }
   ],
   "source": [
    "print(wnba['Pos'].unique())"
   ]
  },
  {
   "cell_type": "markdown",
   "metadata": {},
   "source": [
    "There are five unique positions in our data set.\n",
    "\n",
    "### Stratified Sampling\n",
    "To ensure we end up with a sample that has observations for all the categories of interest, we can change the sampling method. We can organize our data set into different groups, and then do simple random sampling for every group. We can group our data set by player position, and then sample randomly from each group.\n",
    "\n",
    "This sampling method is called stratified sampling, and each stratified group is also known as a stratum."
   ]
  },
  {
   "cell_type": "code",
   "execution_count": 11,
   "metadata": {},
   "outputs": [
    {
     "data": {
      "text/plain": [
       "'C'"
      ]
     },
     "execution_count": 11,
     "metadata": {},
     "output_type": "execute_result"
    }
   ],
   "source": [
    "#new column which describes the number of points a player scored per game during the season\n",
    "wnba[\"Pts_per_game\"] = wnba[\"PTS\"] / wnba[\"Games Played\"]\n",
    "\n",
    "# Stratifying the data in five strata\n",
    "stratum_G = wnba[wnba.Pos == 'G']\n",
    "stratum_F = wnba[wnba.Pos == 'F']\n",
    "stratum_C = wnba[wnba.Pos == 'C']\n",
    "stratum_GF = wnba[wnba.Pos == 'G/F']\n",
    "stratum_FC = wnba[wnba.Pos == 'F/C']\n",
    "\n",
    "points_per_position = {}\n",
    "for stratum, position in [(stratum_G, 'G'), (stratum_F, 'F'), (stratum_C, 'C'),\n",
    "                (stratum_GF, 'G/F'), (stratum_FC, 'F/C')]:\n",
    "    sample = stratum[\"Pts_per_game\"].sample(10, random_state = 0)\n",
    "    # simple random sapling on each stratum\n",
    "    points_per_position[position] = sample.mean()\n",
    "    \n",
    "#Find the position that has the greatest number of points per game\n",
    "position_most_points = max(points_per_position, key = points_per_position.get)\n",
    "position_most_points"
   ]
  },
  {
   "cell_type": "markdown",
   "metadata": {},
   "source": [
    "Earlier we performed simple random sampling 100 times on the original data set, and for each sample we computed the mean number of total points a player scores in a season. The problem is that the number of total points is influenced by the number of games played, which ranges from 2 to 32."
   ]
  },
  {
   "cell_type": "code",
   "execution_count": 12,
   "metadata": {},
   "outputs": [
    {
     "name": "stdout",
     "output_type": "stream",
     "text": [
      "2\n"
     ]
    }
   ],
   "source": [
    "print(wnba['Games Played'].min())"
   ]
  },
  {
   "cell_type": "code",
   "execution_count": 13,
   "metadata": {},
   "outputs": [
    {
     "name": "stdout",
     "output_type": "stream",
     "text": [
      "32\n"
     ]
    }
   ],
   "source": [
    "print(wnba['Games Played'].max())"
   ]
  },
  {
   "cell_type": "code",
   "execution_count": 14,
   "metadata": {},
   "outputs": [
    {
     "name": "stdout",
     "output_type": "stream",
     "text": [
      "(22.0, 32.0]     72.727273\n",
      "(12.0, 22.0]     18.181818\n",
      "(1.969, 12.0]     9.090909\n",
      "Name: Games Played, dtype: float64\n"
     ]
    }
   ],
   "source": [
    "print(wnba['Games Played'].value_counts(bins = 3, normalize = True) * 100)"
   ]
  },
  {
   "cell_type": "markdown",
   "metadata": {},
   "source": [
    "Approximately 72.7% of the players had more than 23 games for the 2016-2017 season, which means that the mean of the total points is probably influenced by this category of players who played a lot of games.\n",
    "\n",
    "The ( character indicates that the beginning of the interval is not included, and the ] indicates that the endpoint is included. For example, (22.0, 32.0] means that 22.0 isn't included, while 32.0 is, and the interval contains this array of numbers: [23, 24, 25, 26, 27, 28, 29, 30, 31, 32].\n",
    "\n",
    "When we compute the mean of the total points using the population (the entire data set), the mean will probably be signficantly influenced by those 72.7% players who played more than 23 games. However, when we sample randomly, we can end up with a sample where the proportions are different than in the population.\n",
    "\n",
    "For instance, we might end up with a sample where only 2% of the players played more than 23 games. This will result in a sample mean which underestimates the population mean. Or we could have a sample where more than 95% of the players had 23 games in the 2016-2017 season. This will result in overestimating the population mean. This scenario of under or over estimation is common for small samples.\n",
    "\n",
    "One solution to this problem is to use stratified sampling while being mindful of the proportions in the population. We can stratify our data set by the number of games played, and then sample randomly from each stratum a proportional number of observations.\n",
    "\n",
    "### Stratified Sampling - Proportionally based on games played"
   ]
  },
  {
   "cell_type": "code",
   "execution_count": 15,
   "metadata": {},
   "outputs": [
    {
     "data": {
      "text/plain": [
       "<matplotlib.lines.Line2D at 0x249bdf889b0>"
      ]
     },
     "execution_count": 15,
     "metadata": {},
     "output_type": "execute_result"
    },
    {
     "data": {
      "image/png": "[encoded data removed]",
      "text/plain": [
       "<Figure size 432x288 with 1 Axes>"
      ]
     },
     "metadata": {
      "needs_background": "light"
     },
     "output_type": "display_data"
    }
   ],
   "source": [
    "#Perform stratified sampling on the data set 100 times, and sample strata proportionally.\n",
    "\n",
    "#stratums for sampling\n",
    "stratum_1 = wnba[wnba['Games Played'] <= 12]\n",
    "stratum_2 = wnba[(wnba['Games Played'] > 12) & (wnba['Games Played'] <= 22)]\n",
    "stratum_3 = wnba[wnba['Games Played'] > 22]\n",
    "\n",
    "proportional_sampling_means = []\n",
    "\n",
    "#get samples\n",
    "for i in range(100):\n",
    "    sample1 = stratum_1['PTS'].sample(1, random_state = i)\n",
    "    sample2 = stratum_2['PTS'].sample(2, random_state = i)\n",
    "    sample3 = stratum_3['PTS'].sample(7, random_state = i)\n",
    "    \n",
    "    #mergre samples into one\n",
    "    final_sample = pd.concat([sample1, sample2, sample3])\n",
    "    \n",
    "    # add sample back into empty list\n",
    "    proportional_sampling_means.append(final_sample.mean())\n",
    "\n",
    "#plot the sample means\n",
    "plt.scatter(range(1,101), proportional_sampling_means)\n",
    "plt.axhline(wnba['PTS'].mean())"
   ]
  },
  {
   "cell_type": "markdown",
   "metadata": {},
   "source": [
    "The variability of the sampling was quite large, and many sample means were unrepresentative, being far from the population mean. In fact, this sampling method doesn't seem to perform better than simple random sampling.\n",
    "\n",
    "The poor performance is caused by a bad choice of strata. We stratified the data by the number of games played, but this isn't a good approach. A player is considered as having played one game even if she only played for one or two minutes. But others play 30 or 40 minutes, and they're still considered as having played one game.\n",
    "\n",
    "It makes more sense to stratify the data by number of minutes played, rather than by number of games played. The minutes played are a much better indicator of how much a player scored in a season than the number of games played.\n",
    "\n",
    "Our data set contains the total amount of minutes a player had for the entire season. If we make strata based on minutes played, and then sample proportionally using stratified sampling, we get something visibly better than simple random sampling (especially in terms of variability).\n",
    "\n",
    "Here are a few guidelines for choosing good strata:\n",
    "\n",
    "1. Minimize the variability within each stratum.\n",
    "\n",
    "       For instance, avoid having in the same stratum a player that has scored 10 points and a player that has scored 500. If the variability is high, it might be a sign that you either need a more granular stratification (need more strata), or you need to change the criterion of stratification (an example of criterion is minutes played).\n",
    "\n",
    "2. Maximize the variability between strata.\n",
    "\n",
    "       Good strata are different from one another. If you have strata that are similar to one another with respect to what you want to measure, you might need a more granular stratification, or to change the stratification criterion. Previously , stratifying the data by games played resulted in strata that weren't too different from each other with respect to the distribution of the total points. We managed to increase the variability between strata by changing the criterion of stratification to minutes played.\n",
    "\n",
    "3. The stratification criterion should be strongly correlated with the property you're trying to measure.\n",
    "\n",
    "       For instance, the column describing minutes played (the criterion) should be strongly correlated with the number of total points (property we want to measure)."
   ]
  },
  {
   "cell_type": "code",
   "execution_count": 16,
   "metadata": {},
   "outputs": [
    {
     "data": {
      "text/plain": [
       "(347.333, 682.667]    0.349650\n",
       "(10.993, 347.333]     0.335664\n",
       "(682.667, 1018.0]     0.314685\n",
       "Name: MIN, dtype: float64"
      ]
     },
     "execution_count": 16,
     "metadata": {},
     "output_type": "execute_result"
    }
   ],
   "source": [
    "# Minutes played column\n",
    "wnba['MIN'].value_counts(bins = 3, normalize = True)"
   ]
  },
  {
   "cell_type": "markdown",
   "metadata": {},
   "source": [
    "### Stratified Sampling - Proportionally based on minutes played"
   ]
  },
  {
   "cell_type": "code",
   "execution_count": 17,
   "metadata": {},
   "outputs": [
    {
     "data": {
      "text/plain": [
       "<matplotlib.lines.Line2D at 0x249bdfde588>"
      ]
     },
     "execution_count": 17,
     "metadata": {},
     "output_type": "execute_result"
    },
    {
     "data": {
      "image/png": "[encoded data removed]",
      "text/plain": [
       "<Figure size 432x288 with 1 Axes>"
      ]
     },
     "metadata": {
      "needs_background": "light"
     },
     "output_type": "display_data"
    }
   ],
   "source": [
    "#stratums for sampling\n",
    "stratum_1 = wnba[wnba['MIN'] <= 347]\n",
    "stratum_2 = wnba[(wnba['MIN'] > 347) & (wnba['MIN'] <= 682)]\n",
    "stratum_3 = wnba[wnba['MIN'] > 682]\n",
    "\n",
    "proportional_sampling_means = []\n",
    "\n",
    "#get samples\n",
    "for i in range(100):\n",
    "    sample1 = stratum_1['PTS'].sample(1, random_state = i)\n",
    "    sample2 = stratum_2['PTS'].sample(2, random_state = i)\n",
    "    sample3 = stratum_3['PTS'].sample(7, random_state = i)\n",
    "    \n",
    "    #mergre samples into one\n",
    "    final_sample = pd.concat([sample1, sample2, sample3])\n",
    "    \n",
    "    # add sample back into empty list\n",
    "    proportional_sampling_means.append(final_sample.mean())\n",
    "\n",
    "#plot the sample means\n",
    "plt.scatter(range(1,101), proportional_sampling_means)\n",
    "plt.axhline(wnba['PTS'].mean())"
   ]
  },
  {
   "cell_type": "markdown",
   "metadata": {},
   "source": [
    "Here we can see if we choose the minutes played for our stratum sample all our samples fall above the mean.\n",
    "\n",
    "### Cluster Sampling\n",
    "\n",
    "Assuming that all the teams in our data set have a website where we can take data from, we end up with this list of clusters (each team's website is considered a cluster)."
   ]
  },
  {
   "cell_type": "code",
   "execution_count": 18,
   "metadata": {},
   "outputs": [
    {
     "name": "stdout",
     "output_type": "stream",
     "text": [
      "['DAL' 'LA' 'CON' 'SAN' 'MIN' 'SEA' 'PHO' 'CHI' 'WAS' 'NY' 'ATL' 'IND']\n"
     ]
    }
   ],
   "source": [
    "print(wnba['Team'].unique())"
   ]
  },
  {
   "cell_type": "markdown",
   "metadata": {},
   "source": [
    "Then we need to find a way to pick randomly a few clusters from our listing. There are many ways to do that, but the important thing to keep in mind is that we should avoid picking a cluster twice. Here's one way to sample four clusters randomly:"
   ]
  },
  {
   "cell_type": "code",
   "execution_count": 19,
   "metadata": {},
   "outputs": [
    {
     "name": "stdout",
     "output_type": "stream",
     "text": [
      "6     PHO\n",
      "11    IND\n",
      "4     MIN\n",
      "10    ATL\n",
      "dtype: object\n"
     ]
    }
   ],
   "source": [
    "print(pd.Series(wnba['Team'].unique()).sample(4, random_state = 0))"
   ]
  },
  {
   "cell_type": "markdown",
   "metadata": {},
   "source": [
    "Once we pick the clusters, we move to collecting the data. We can collect all the data from each cluster, but we can also perform sampling on each. It's actually possible to use different sampling methods for different clusters. For instance, we can use stratified sampling on the first two clusters, and simple random sampling on the other two."
   ]
  },
  {
   "cell_type": "code",
   "execution_count": 20,
   "metadata": {},
   "outputs": [],
   "source": [
    "#Pick four team clusters randomly\n",
    "clusters = pd.Series(wnba[\"Team\"].unique()).sample(4, random_state =0)"
   ]
  },
  {
   "cell_type": "code",
   "execution_count": 21,
   "metadata": {},
   "outputs": [],
   "source": [
    "sample = pd.DataFrame()\n",
    "\n",
    "for cluster in clusters:\n",
    "    data_collected = wnba[wnba[\"Team\"] == cluster]\n",
    "    sample = sample.append(data_collected)\n",
    "\n",
    "#measure the sampling error of your estimates, and assign the errors to the following variables\n",
    "sampling_error_height = wnba[\"Height\"].mean() - sample[\"Height\"].mean()\n",
    "sampling_error_age = wnba[\"Age\"].mean() - sample[\"Age\"].mean()\n",
    "sampling_error_BMI = wnba[\"BMI\"].mean() - sample[\"BMI\"].mean()\n",
    "sampling_error_points = wnba[\"PTS\"].mean() - sample[\"PTS\"].mean()"
   ]
  },
  {
   "cell_type": "code",
   "execution_count": 22,
   "metadata": {},
   "outputs": [
    {
     "data": {
      "text/plain": [
       "-0.06400121617511445"
      ]
     },
     "execution_count": 22,
     "metadata": {},
     "output_type": "execute_result"
    }
   ],
   "source": [
    "sampling_error_height"
   ]
  },
  {
   "cell_type": "code",
   "execution_count": 23,
   "metadata": {},
   "outputs": [
    {
     "data": {
      "text/plain": [
       "-1.401337792642142"
      ]
     },
     "execution_count": 23,
     "metadata": {},
     "output_type": "execute_result"
    }
   ],
   "source": [
    "sampling_error_age"
   ]
  },
  {
   "cell_type": "code",
   "execution_count": 24,
   "metadata": {},
   "outputs": [
    {
     "data": {
      "text/plain": [
       "0.23095444165950596"
      ]
     },
     "execution_count": 24,
     "metadata": {},
     "output_type": "execute_result"
    }
   ],
   "source": [
    "sampling_error_BMI"
   ]
  },
  {
   "cell_type": "code",
   "execution_count": 25,
   "metadata": {},
   "outputs": [
    {
     "data": {
      "text/plain": [
       "-27.79674673152934"
      ]
     },
     "execution_count": 25,
     "metadata": {},
     "output_type": "execute_result"
    }
   ],
   "source": [
    "sampling_error_points"
   ]
  },
  {
   "cell_type": "markdown",
   "metadata": {},
   "source": [
    "## Variable Statistics\n",
    "Variables in statistics can describe either quantities, or qualities.\n",
    "\n",
    "For instance, the Height variable in our data set describes how tall each player is. The Age variable describes how much time has passed since each player was born. The MIN variable describes how many minutes each player played in the 2016-2017 WNBA season.\n",
    "\n",
    "Generally, a variable that describes how much there is of something describes a quantity, and, for this reason, it's called a quantitative variable.\n",
    "\n",
    "Usually, quantitative variables describe a quantity using real numbers, but there are also cases when words are used instead. Height, for example, can be described using real numbers, like in our data set, but it can also be described using labels like \"tall\" or \"short\".\n",
    "\n",
    "A few variables in our data set clearly don't describe quantities. The Name variable, for instance, describes the name of each player. The Team variable describes what team each player belongs to. The College variable describes what college each player goes or went to.\n",
    "\n",
    "The Name, Team, and College variables describe for each individual a quality, that is, a property that is not quantitative. Variables that describe qualities are called qualitative variables or categorical variables. Generally, qualitative variables describe what or how something is."
   ]
  },
  {
   "cell_type": "code",
   "execution_count": 26,
   "metadata": {},
   "outputs": [],
   "source": [
    "variables = {'Name': 'qualitative',\n",
    "             'Team': 'qualitative',\n",
    "             'Pos': 'qualitative',\n",
    "             'Height': 'quantitative',\n",
    "             'BMI': 'quantitative',\n",
    "             'Birth_Place': 'qualitative',\n",
    "             'Birthdate': 'quantitative',\n",
    "             'Age': 'quantitative',\n",
    "             'College': 'qualitative',\n",
    "             'Experience': 'quantitative',\n",
    "             'Games Played': 'quantitative',\n",
    "             'MIN': 'quantitative',\n",
    "             'FGM': 'quantitative',\n",
    "             'FGA': 'quantitative',\n",
    "             '3PA': 'quantitative',\n",
    "             'FTM': 'quantitative',\n",
    "             'FTA': 'quantitative',\n",
    "             'FT%': 'quantitative',\n",
    "             'OREB': 'quantitative',\n",
    "             'DREB': 'quantitative',\n",
    "             'REB': 'quantitative',\n",
    "             'AST': 'quantitative',\n",
    "             'PTS': 'quantitative'}"
   ]
  },
  {
   "cell_type": "markdown",
   "metadata": {},
   "source": [
    "For instance, if we analyze the Team variable for any two individuals:\n",
    "\n",
    "- We can tell whether or not the two individuals are different from each other with respect to the team they play.\n",
    "- But if there's a difference:\n",
    "  - We can't tell the size of the difference.\n",
    "  - We can't tell the direction of the difference - we can't say that team A is greater or less than team B.\n",
    "\n",
    "On the other side, if we analyze the Height variable:\n",
    "\n",
    "- We can tell whether or not two individuals are different.\n",
    "- If there's a difference:\n",
    "  - We can tell the size of the difference. If player A has 190 cm and player B has 192 cm, then the difference between the two is 2 cm.\n",
    "  - We can tell the direction of the different from each perspective: player A has 2 cm less than player B, and player B has 2 cm more than player A.\n",
    "  \n",
    "The Team and Height variables provide different amounts of information because they have a different nature (one is qualitative, the other quantitative), and because they are measured differently.\n",
    "\n",
    "The system of rules that define how each variable is measured is called scale of measurement or, less often, level of measurement.\n",
    "\n",
    "The Team variable is an example of a variable measured on a nominal scale. For any variable measured on a nominal scale:\n",
    "\n",
    "- We can tell whether two individuals are different or not (with respect to that variable).\n",
    "- We can't say anything about the direction and the size of the difference.\n",
    "- We know that it can only describe qualities.\n",
    "\n",
    "If basketball player A has the number 5 on her shirt, and player B has 8, we can tell they're different with respect to shirt numbers, but it doesn't make any sense to subtract the two values and quantify the difference as a 3. Nor it makes sense to say that B is greater than A. The numbers on the shirts are just identifiers here, they don't quantify anything.\n",
    "\n"
   ]
  },
  {
   "cell_type": "code",
   "execution_count": 27,
   "metadata": {},
   "outputs": [],
   "source": [
    "#variables measured on a nominal scale.\n",
    "nominal_scale = sorted(['Name', 'Team', 'Pos', 'Birth_Place', 'College'])"
   ]
  },
  {
   "cell_type": "markdown",
   "metadata": {},
   "source": [
    "The new Height_labels variable was showing labels like \"short\", \"medium\", or \"tall\". By examining the values of this new variable, we can tell whether two individuals are different or not. But, unlike in the case of a nominal scale, we can also tell the direction of the difference. Someone who is assigned the label \"tall\" has a bigger height than someone assigned the label \"short\".\n",
    "\n",
    "However, we still can't determine the size of the difference. This is an example of a variable measured on an ordinal scale.\n",
    "\n",
    "Common examples of variables measured on ordinal scales include ranks: ranks of athletes, of horses in a race, of people in various competitions, etc.\n",
    "\n",
    "For example, let's say we only know that athlete A finished second in a marathon, and athlete B finished third in the same race. We can immediately tell their performance is different, we know that athlete A finished faster, but we don't know how much faster. The difference between the two could be half a second, 12 minutes, half an hour, etc.\n",
    "\n",
    "Other common examples include measurements of subjective evaluations that are generally difficult or near to impossible to quantify with precision. For instance, when answering a survey about how much they like a new product, people may have to choose a label between \"It's a disaster, I hate it\", \"I don't like it\", \"I like it a bit\", \"I really like it\", \"I simply love it\".\n",
    "\n",
    "The values of the variables measured on an ordinal scale can be both words and numbers. When the values are numbers, they are usually ranks. But we still can't use the numbers to compute the size of the difference. We can't say how much faster an athlete was than another by simply comparing their ranks.\n",
    "\n",
    "Whether a variable is quantitative or qualitative is independent of the way the variable is measured. The Height variable, for instance, is quantitative no matter how we measure it. The fact that we use words like \"short\" or \"tall\" doesn't change its underlying nature. The Height variable still describes a magnitude, but in a different way.\n",
    "\n",
    "A variable measured on a scale that preserves the order between values and has well-defined intervals using real numbers is an example of a variable measured either on an interval scale, or on a ratio scale."
   ]
  },
  {
   "cell_type": "code",
   "execution_count": 28,
   "metadata": {},
   "outputs": [],
   "source": [
    "#variables measured on a interval scale\n",
    "interval = ['Birthdate', 'Weight_deviation']\n",
    "\n",
    "#variables measured on a ratio scale\n",
    "ratio = sorted(['Height', 'Weight', 'BMI', 'Age', 'Experience', 'Games Played', 'MIN', 'FGM', 'FGA', 'FG%', '15:00', \n",
    "                '3PA', '3P%', 'FTM', 'FTA', 'FT%', 'OREB', 'DREB', 'REB', 'AST', 'STL', 'BLK', 'TO',\n",
    "                'PTS', 'DD2', 'TD3'])"
   ]
  },
  {
   "cell_type": "markdown",
   "metadata": {},
   "source": [
    "For every variable, indicate whether is continuous or discrete."
   ]
  },
  {
   "cell_type": "code",
   "execution_count": 29,
   "metadata": {},
   "outputs": [],
   "source": [
    "ratio_interval_only = {'Height': 'continuous',\n",
    "                       'Weight': 'continuous',\n",
    "                       'BMI': 'continuous',\n",
    "                       'Age': 'continuous',\n",
    "                       'Games Played': 'discrete',\n",
    "                       'MIN': 'continuous',\n",
    "                       'FGM': 'discrete',\n",
    "                       'FGA': 'discrete',\n",
    "                       'FG%': 'continuous',\n",
    "                       '3PA': 'discrete',\n",
    "                       '3P%': 'continuous',\n",
    "                       'FTM': 'discrete',\n",
    "                       'FTA': 'discrete',\n",
    "                       'FT%': 'continuous',\n",
    "                       'OREB': 'discrete',\n",
    "                       'DREB': 'discrete',\n",
    "                       'REB': 'discrete',\n",
    "                       'AST': 'discrete',\n",
    "                       'STL': 'discrete',\n",
    "                       'BLK': 'discrete',\n",
    "                       'TO': 'discrete',\n",
    "                       'PTS': 'discrete',\n",
    "                       'DD2': 'discrete', \n",
    "                       'TD3': 'discrete',\n",
    "                       'Weight_deviation': 'continuous'}"
   ]
  },
  {
   "cell_type": "code",
   "execution_count": 30,
   "metadata": {},
   "outputs": [],
   "source": [
    "#Find the real limits for five values of the BMI (body mass index) variable.\n",
    "\n",
    "bmi = {21.201: [21.2005, 21.2015],\n",
    " 21.329: [21.3285, 21.3295],\n",
    " 23.875: [23.8745, 23.8755],\n",
    " 24.543: [24.5425, 24.5435],\n",
    " 25.469: [25.4685, 25.4695]}"
   ]
  },
  {
   "cell_type": "markdown",
   "metadata": {},
   "source": [
    "## Frequency\n",
    "\n",
    "One way to simplify this data set is to select a variable, count how many times each unique value occurs, and represent the frequencies (the number of times a unique value occurs) in a table. This is how such a table looks for the POS (player position) variable."
   ]
  },
  {
   "cell_type": "code",
   "execution_count": 31,
   "metadata": {},
   "outputs": [
    {
     "data": {
      "text/plain": [
       "G      60\n",
       "F      33\n",
       "C      25\n",
       "G/F    13\n",
       "F/C    12\n",
       "Name: Pos, dtype: int64"
      ]
     },
     "execution_count": 31,
     "metadata": {},
     "output_type": "execute_result"
    }
   ],
   "source": [
    "#frequency distribution table for Pos\n",
    "freq_distro_pos = wnba[\"Pos\"].value_counts()\n",
    "freq_distro_pos"
   ]
  },
  {
   "cell_type": "code",
   "execution_count": 32,
   "metadata": {},
   "outputs": [
    {
     "data": {
      "text/plain": [
       "188    20\n",
       "193    18\n",
       "175    16\n",
       "185    15\n",
       "191    11\n",
       "183    11\n",
       "173    11\n",
       "196     9\n",
       "178     8\n",
       "180     7\n",
       "170     6\n",
       "198     5\n",
       "201     2\n",
       "168     2\n",
       "206     1\n",
       "165     1\n",
       "Name: Height, dtype: int64"
      ]
     },
     "execution_count": 32,
     "metadata": {},
     "output_type": "execute_result"
    }
   ],
   "source": [
    "#frequency distribution table for Height\n",
    "freq_distro_height = wnba[\"Height\"].value_counts()\n",
    "freq_distro_height"
   ]
  },
  {
   "cell_type": "markdown",
   "metadata": {},
   "source": [
    "Because the Height variable has direction, we might be interested to find:\n",
    "\n",
    "- How many players are under 170 cm?\n",
    "- How many players are very tall (over 185)?\n",
    "- Are there any players below 160 cm?"
   ]
  },
  {
   "cell_type": "code",
   "execution_count": 33,
   "metadata": {},
   "outputs": [
    {
     "name": "stdout",
     "output_type": "stream",
     "text": [
      "206     1\n",
      "201     2\n",
      "198     5\n",
      "196     9\n",
      "193    18\n",
      "191    11\n",
      "188    20\n",
      "185    15\n",
      "183    11\n",
      "180     7\n",
      "178     8\n",
      "175    16\n",
      "173    11\n",
      "170     6\n",
      "168     2\n",
      "165     1\n",
      "Name: Height, dtype: int64\n"
     ]
    }
   ],
   "source": [
    "print(wnba['Height'].value_counts().sort_index(ascending = False))"
   ]
  },
  {
   "cell_type": "code",
   "execution_count": 34,
   "metadata": {},
   "outputs": [
    {
     "data": {
      "text/plain": [
       "21     2\n",
       "22    10\n",
       "23    15\n",
       "24    16\n",
       "25    15\n",
       "26    12\n",
       "27    13\n",
       "28    14\n",
       "29     8\n",
       "30     9\n",
       "31     8\n",
       "32     8\n",
       "33     3\n",
       "34     5\n",
       "35     4\n",
       "36     1\n",
       "Name: Age, dtype: int64"
      ]
     },
     "execution_count": 34,
     "metadata": {},
     "output_type": "execute_result"
    }
   ],
   "source": [
    "#frequency distribution table for the Age variable\n",
    "age_ascending = wnba[\"Age\"].value_counts().sort_index()\n",
    "age_ascending"
   ]
  },
  {
   "cell_type": "markdown",
   "metadata": {},
   "source": [
    "1. How many players are under 20?\n",
    "\n",
    "        0\n",
    "\n",
    "2. How many players are 30 or over?\n",
    "\n",
    "        38"
   ]
  },
  {
   "cell_type": "code",
   "execution_count": 35,
   "metadata": {},
   "outputs": [
    {
     "data": {
      "text/plain": [
       "Name            38\n",
       "Team            38\n",
       "Pos             38\n",
       "Height          38\n",
       "Weight          38\n",
       "BMI             38\n",
       "Birth_Place     38\n",
       "Birthdate       38\n",
       "Age             38\n",
       "College         38\n",
       "Experience      38\n",
       "Games Played    38\n",
       "MIN             38\n",
       "FGM             38\n",
       "FGA             38\n",
       "FG%             38\n",
       "15:00           38\n",
       "3PA             38\n",
       "3P%             38\n",
       "FTM             38\n",
       "FTA             38\n",
       "FT%             38\n",
       "OREB            38\n",
       "DREB            38\n",
       "REB             38\n",
       "AST             38\n",
       "STL             38\n",
       "BLK             38\n",
       "TO              38\n",
       "PTS             38\n",
       "DD2             38\n",
       "TD3             38\n",
       "Pts_per_game    38\n",
       "dtype: int64"
      ]
     },
     "execution_count": 35,
     "metadata": {},
     "output_type": "execute_result"
    }
   ],
   "source": [
    "wnba[wnba[\"Age\"] >= 30].count()"
   ]
  },
  {
   "cell_type": "markdown",
   "metadata": {},
   "source": [
    "The sorting techniques above can't be used for ordinal scales where the measurement is done using words. We don't have a variable measured on an ordinal scale in our data set, but let's use the PTS variable and the conventions below to create one and see why the techniques we learned don't work."
   ]
  },
  {
   "cell_type": "code",
   "execution_count": 36,
   "metadata": {},
   "outputs": [
    {
     "data": {
      "text/plain": [
       "much more than average      13\n",
       "more than average           21\n",
       "average number of points    45\n",
       "many, but below average     25\n",
       "few points                  27\n",
       "very few points             12\n",
       "Name: PTS_ordinal_scale, dtype: int64"
      ]
     },
     "execution_count": 36,
     "metadata": {},
     "output_type": "execute_result"
    }
   ],
   "source": [
    "#function to define levels of Points\n",
    "def make_pts_ordinal(row):\n",
    "    if row['PTS'] <= 20:\n",
    "        return 'very few points'\n",
    "    if (20 < row['PTS'] <=  80):\n",
    "        return 'few points'\n",
    "    if (80 < row['PTS'] <=  150):\n",
    "        return 'many, but below average'\n",
    "    if (150 < row['PTS'] <= 300):\n",
    "        return 'average number of points'\n",
    "    if (300 < row['PTS'] <=  450):\n",
    "        return 'more than average'\n",
    "    else:\n",
    "        return 'much more than average'\n",
    "    \n",
    "#new column with new function applied\n",
    "wnba['PTS_ordinal_scale'] = wnba.apply(make_pts_ordinal, axis = 1)\n",
    "\n",
    "#frequency distribution table for new column\n",
    "pts_ordinal_desc = wnba[\"PTS_ordinal_scale\"].value_counts().iloc[[4,3,0,2,1,5]]\n",
    "pts_ordinal_desc"
   ]
  },
  {
   "cell_type": "markdown",
   "metadata": {},
   "source": [
    "When we analyze distributions, we're often interested in answering questions about proportions and percentages.\n",
    "\n",
    "In pandas, we can compute all the proportions at once by dividing each frequency by the total number of players"
   ]
  },
  {
   "cell_type": "code",
   "execution_count": 37,
   "metadata": {},
   "outputs": [
    {
     "name": "stdout",
     "output_type": "stream",
     "text": [
      "G      0.419580\n",
      "F      0.230769\n",
      "C      0.174825\n",
      "G/F    0.090909\n",
      "F/C    0.083916\n",
      "Name: Pos, dtype: float64\n"
     ]
    }
   ],
   "source": [
    "print(wnba['Pos'].value_counts() / len(wnba))"
   ]
  },
  {
   "cell_type": "code",
   "execution_count": 38,
   "metadata": {},
   "outputs": [
    {
     "name": "stdout",
     "output_type": "stream",
     "text": [
      "G      41.958042\n",
      "F      23.076923\n",
      "C      17.482517\n",
      "G/F     9.090909\n",
      "F/C     8.391608\n",
      "Name: Pos, dtype: float64\n"
     ]
    }
   ],
   "source": [
    "print(wnba['Pos'].value_counts(normalize = True) * 100)"
   ]
  },
  {
   "cell_type": "markdown",
   "metadata": {},
   "source": [
    "Because proportions and percentages are relative to the total number of instances in some set of data, they are called relative frequencies. In contrast, the frequencies we've been working with so far are called absolute frequencies because they are absolute counts and don't relate to the total number of instances.\n",
    "\n",
    "### questions about the Age variable:"
   ]
  },
  {
   "cell_type": "code",
   "execution_count": 39,
   "metadata": {},
   "outputs": [],
   "source": [
    "percentages = wnba[\"Age\"].value_counts(normalize=True).sort_index() *100"
   ]
  },
  {
   "cell_type": "markdown",
   "metadata": {},
   "source": [
    "1. proportion of players are 25 years old?"
   ]
  },
  {
   "cell_type": "code",
   "execution_count": 40,
   "metadata": {},
   "outputs": [
    {
     "data": {
      "text/plain": [
       "10.48951048951049"
      ]
     },
     "execution_count": 40,
     "metadata": {},
     "output_type": "execute_result"
    }
   ],
   "source": [
    "percentages[25]/100 * 100"
   ]
  },
  {
   "cell_type": "markdown",
   "metadata": {},
   "source": [
    "2. percentage of players are 30 years old?"
   ]
  },
  {
   "cell_type": "code",
   "execution_count": 41,
   "metadata": {},
   "outputs": [
    {
     "data": {
      "text/plain": [
       "6.293706293706294"
      ]
     },
     "execution_count": 41,
     "metadata": {},
     "output_type": "execute_result"
    }
   ],
   "source": [
    "percentages[30]"
   ]
  },
  {
   "cell_type": "markdown",
   "metadata": {},
   "source": [
    "3. percentage of players are 30 years or older?"
   ]
  },
  {
   "cell_type": "code",
   "execution_count": 42,
   "metadata": {},
   "outputs": [
    {
     "data": {
      "text/plain": [
       "26.573426573426573"
      ]
     },
     "execution_count": 42,
     "metadata": {},
     "output_type": "execute_result"
    }
   ],
   "source": [
    "percentages.loc[30:].sum()"
   ]
  },
  {
   "cell_type": "markdown",
   "metadata": {},
   "source": [
    "4. percentage of players are 23 years or younger?"
   ]
  },
  {
   "cell_type": "code",
   "execution_count": 43,
   "metadata": {},
   "outputs": [
    {
     "data": {
      "text/plain": [
       "18.88111888111888"
      ]
     },
     "execution_count": 43,
     "metadata": {},
     "output_type": "execute_result"
    }
   ],
   "source": [
    "percentages.loc[:23].sum()"
   ]
  },
  {
   "cell_type": "markdown",
   "metadata": {},
   "source": [
    "Above we found that the percentage of players aged 23 years or younger is 19% (rounded to the nearest integer). This percentage is also called a percentile rank.\n",
    "\n",
    "A percentile rank of a value  in a frequency distribution is given by the percentage of values that are equal or less than . In our last exercise, , and the fact that 23 has a percentile rank of 19% means that 19% of the values are equal to or less than 23.\n",
    "\n",
    "In this context, the value of 23 is called the 19th percentile. If a value  is the 19th percentile, it means that 19% of all the values in the distribution are equal to or less than.\n",
    "\n",
    "When we're trying to answer questions similar to \"What percentage of players are 23 years or younger?\", we're trying to find percentile ranks. In our previous exercise, our answer to this question was 18.881%. We can arrive at the same answer a bit faster using the percentileofscore(a, score, kind='weak') function from scipy.stats:"
   ]
  },
  {
   "cell_type": "code",
   "execution_count": 44,
   "metadata": {},
   "outputs": [
    {
     "name": "stdout",
     "output_type": "stream",
     "text": [
      "18.88111888111888\n"
     ]
    }
   ],
   "source": [
    "from scipy.stats import percentileofscore\n",
    "print(percentileofscore(a = wnba['Age'], score = 23, kind = 'weak'))"
   ]
  },
  {
   "cell_type": "markdown",
   "metadata": {},
   "source": [
    "We need to use kind = 'weak' to indicate that we want to find the percentage of values that are equal to or less than the value we specify in the score parameter.\n",
    "\n",
    "Another question we had was what percentage of players are 30 years or older."
   ]
  },
  {
   "cell_type": "code",
   "execution_count": 45,
   "metadata": {},
   "outputs": [
    {
     "name": "stdout",
     "output_type": "stream",
     "text": [
      "26.573426573426573\n"
     ]
    }
   ],
   "source": [
    "print(100 - percentileofscore(wnba['Age'], score= 29, kind = 'weak'))"
   ]
  },
  {
   "cell_type": "markdown",
   "metadata": {},
   "source": [
    "What percentage of players played half the number of games or less in the 2016-2017 season?"
   ]
  },
  {
   "cell_type": "code",
   "execution_count": 46,
   "metadata": {},
   "outputs": [
    {
     "name": "stdout",
     "output_type": "stream",
     "text": [
      "16.083916083916083\n"
     ]
    }
   ],
   "source": [
    "percentile_rank_half_less = print(percentileofscore(wnba[\"Games Played\"], 17, kind = \"weak\"))"
   ]
  },
  {
   "cell_type": "markdown",
   "metadata": {},
   "source": [
    "What percentage of players played more than half the number of games of the season 2016-2017?"
   ]
  },
  {
   "cell_type": "code",
   "execution_count": 47,
   "metadata": {},
   "outputs": [
    {
     "name": "stdout",
     "output_type": "stream",
     "text": [
      "83.91608391608392\n"
     ]
    }
   ],
   "source": [
    "percentage_half_more = print(100 - percentileofscore(wnba[\"Games Played\"], 17, kind = \"weak\"))"
   ]
  },
  {
   "cell_type": "markdown",
   "metadata": {},
   "source": [
    "25th, the 50th, and the 75th percentiles"
   ]
  },
  {
   "cell_type": "code",
   "execution_count": 48,
   "metadata": {},
   "outputs": [
    {
     "data": {
      "text/plain": [
       "count    143.000000\n",
       "mean      27.076923\n",
       "std        3.679170\n",
       "min       21.000000\n",
       "25%       24.000000\n",
       "50%       27.000000\n",
       "75%       30.000000\n",
       "max       36.000000\n",
       "Name: Age, dtype: float64"
      ]
     },
     "execution_count": 48,
     "metadata": {},
     "output_type": "execute_result"
    }
   ],
   "source": [
    "wnba[\"Age\"].describe()"
   ]
  },
  {
   "cell_type": "markdown",
   "metadata": {},
   "source": [
    "The three percentiles that divide the distribution in four equal parts are also known as quartiles (from the Latin quartus which means four). There are three quartiles in the distribution of the Age variable:\n",
    "\n",
    "1. The first quartile (also called lower quartile) is 24 (note that 24 is also the 25th percentile).\n",
    "2. The second quartile (also called the middle quartile) is 27 (note that 27 is also the 50th percentile).\n",
    "3. And the third quartile (also called the upper quartile) is 30 (note that 30 is also the 75th percentile).\n",
    "\n",
    "percentiles for percentages other than 25%, 50%, or 75%"
   ]
  },
  {
   "cell_type": "code",
   "execution_count": 49,
   "metadata": {},
   "outputs": [
    {
     "name": "stdout",
     "output_type": "stream",
     "text": [
      "min      21.0\n",
      "10%      23.0\n",
      "15%      23.0\n",
      "33%      25.0\n",
      "50%      27.0\n",
      "59.2%    28.0\n",
      "85%      31.0\n",
      "90%      32.0\n",
      "max      36.0\n",
      "Name: Age, dtype: float64\n"
     ]
    }
   ],
   "source": [
    "print(wnba['Age'].describe(percentiles = [.1, .15, .33, .5, .592, .85, .9]).iloc[3:])"
   ]
  },
  {
   "cell_type": "markdown",
   "metadata": {},
   "source": [
    "### Answer the following questions:\n",
    "\n",
    "1. What's the upper quartile of the Age variable?\n",
    "2. What's the middle quartile of the Age variable?\n",
    "3. What's the 95th percentile of the Age variable?"
   ]
  },
  {
   "cell_type": "code",
   "execution_count": 50,
   "metadata": {},
   "outputs": [],
   "source": [
    "percentiles = wnba['Age'].describe(percentiles = [.5, .75, .95])"
   ]
  },
  {
   "cell_type": "code",
   "execution_count": 51,
   "metadata": {},
   "outputs": [
    {
     "name": "stdout",
     "output_type": "stream",
     "text": [
      "30.0\n"
     ]
    }
   ],
   "source": [
    "upper_quartile = print(percentiles['75%'])"
   ]
  },
  {
   "cell_type": "code",
   "execution_count": 52,
   "metadata": {},
   "outputs": [
    {
     "name": "stdout",
     "output_type": "stream",
     "text": [
      "27.0\n"
     ]
    }
   ],
   "source": [
    "middle_quartile = print(percentiles['50%'])"
   ]
  },
  {
   "cell_type": "code",
   "execution_count": 53,
   "metadata": {},
   "outputs": [
    {
     "name": "stdout",
     "output_type": "stream",
     "text": [
      "34.0\n"
     ]
    }
   ],
   "source": [
    "quartile_95th = print(percentiles['95%'])"
   ]
  },
  {
   "cell_type": "markdown",
   "metadata": {},
   "source": [
    "#### grouped frequency distribution on weight"
   ]
  },
  {
   "cell_type": "code",
   "execution_count": 54,
   "metadata": {},
   "outputs": [
    {
     "name": "stdout",
     "output_type": "stream",
     "text": [
      "(54.941, 60.8]     5\n",
      "(60.8, 66.6]      21\n",
      "(66.6, 72.4]      10\n",
      "(72.4, 78.2]      33\n",
      "(78.2, 84.0]      31\n",
      "(84.0, 89.8]      24\n",
      "(89.8, 95.6]      10\n",
      "(95.6, 101.4]      3\n",
      "(101.4, 107.2]     2\n",
      "(107.2, 113.0]     3\n",
      "Name: Weight, dtype: int64\n"
     ]
    }
   ],
   "source": [
    "print(wnba['Weight'].value_counts(bins = 10).sort_index())"
   ]
  },
  {
   "cell_type": "markdown",
   "metadata": {},
   "source": [
    "we can find patterns easier in the distribution of values:\n",
    "\n",
    "1. Most players weigh somewhere between 70 and 90 kg.\n",
    "2. Very few players weigh over 100 kg.\n",
    "3. Very few players weigh under 60 kg; etc.\n",
    "\n",
    "#### generate a grouped frequency distribution table for the PTS variable as percentages"
   ]
  },
  {
   "cell_type": "code",
   "execution_count": 55,
   "metadata": {},
   "outputs": [
    {
     "name": "stdout",
     "output_type": "stream",
     "text": [
      "(525.8, 584.0]     3.496503\n",
      "(467.6, 525.8]     2.797203\n",
      "(409.4, 467.6]     5.594406\n",
      "(351.2, 409.4]     6.993007\n",
      "(293.0, 351.2]     5.594406\n",
      "(234.8, 293.0]    11.888112\n",
      "(176.6, 234.8]    13.986014\n",
      "(118.4, 176.6]    11.888112\n",
      "(60.2, 118.4]     16.783217\n",
      "(1.417, 60.2]     20.979021\n",
      "Name: PTS, dtype: float64\n"
     ]
    }
   ],
   "source": [
    "print(wnba['PTS'].value_counts(bins = 10,\n",
    "                normalize = True).sort_index(ascending = False) * 100)"
   ]
  },
  {
   "cell_type": "markdown",
   "metadata": {},
   "source": [
    "We can see that most players are scoring lower amount of points during the season.\n",
    "\n",
    "#### grouped frequency distribution for the MIN variable (minutes played during the season)"
   ]
  },
  {
   "cell_type": "code",
   "execution_count": 56,
   "metadata": {},
   "outputs": [
    {
     "data": {
      "text/plain": [
       "(10.993, 112.6]    19\n",
       "(112.6, 213.2]     10\n",
       "(213.2, 313.8]     17\n",
       "(313.8, 414.4]     15\n",
       "(414.4, 515.0]     13\n",
       "(515.0, 615.6]     12\n",
       "(615.6, 716.2]     15\n",
       "(716.2, 816.8]     14\n",
       "(816.8, 917.4]     19\n",
       "(917.4, 1018.0]     9\n",
       "Name: MIN, dtype: int64"
      ]
     },
     "execution_count": 56,
     "metadata": {},
     "output_type": "execute_result"
    }
   ],
   "source": [
    "wnba[\"MIN\"].value_counts(bins = 10).sort_index()"
   ]
  },
  {
   "cell_type": "markdown",
   "metadata": {},
   "source": [
    "We see 19 players on the top and bottom of the frequency table, showing us there is an even spread with amount of minutes player.\n",
    "\n",
    "### Interval Ranges\n",
    "\n",
    "We can create intervals with the interval_range function."
   ]
  },
  {
   "cell_type": "code",
   "execution_count": 57,
   "metadata": {},
   "outputs": [
    {
     "name": "stdout",
     "output_type": "stream",
     "text": [
      "IntervalIndex([(0, 100], (100, 200], (200, 300], (300, 400], (400, 500], (500, 600]],\n",
      "              closed='right',\n",
      "              dtype='interval[int64]')\n"
     ]
    }
   ],
   "source": [
    "intervals = pd.interval_range(start = 0, end = 600, freq = 100)\n",
    "print(intervals)"
   ]
  },
  {
   "cell_type": "markdown",
   "metadata": {},
   "source": [
    "Next, we create a new Series using the intervals as indices, and, for now, 0 as values:\n",
    "\n"
   ]
  },
  {
   "cell_type": "code",
   "execution_count": 58,
   "metadata": {},
   "outputs": [
    {
     "name": "stdout",
     "output_type": "stream",
     "text": [
      "(0, 100]      0\n",
      "(100, 200]    0\n",
      "(200, 300]    0\n",
      "(300, 400]    0\n",
      "(400, 500]    0\n",
      "(500, 600]    0\n",
      "dtype: int64\n"
     ]
    }
   ],
   "source": [
    "gr_freq_table = pd.Series([0,0,0,0,0,0], index = intervals)\n",
    "print(gr_freq_table)"
   ]
  },
  {
   "cell_type": "markdown",
   "metadata": {},
   "source": [
    "Next, we loop through the values of the PTS column, and for each value:\n",
    "\n",
    "1. We check whether the current value from the PTS column belongs to that interval.\n",
    "    1. If the value doesn't belong to an interval, we continue the inner loop over the intervals.\n",
    "    2. If the value belongs to an interval:\n",
    "        1. We update the counting for that interval in gr_freq_table by adding 1.\n",
    "        2. We exit the inner loop over the intervals with break because a value can belong to one interval only, and it makes no sense to continue the loop (without using break, we'll get the same output but we'll do many redundant iterations)."
   ]
  },
  {
   "cell_type": "code",
   "execution_count": 59,
   "metadata": {},
   "outputs": [
    {
     "name": "stdout",
     "output_type": "stream",
     "text": [
      "(0, 100]      49\n",
      "(100, 200]    28\n",
      "(200, 300]    32\n",
      "(300, 400]    17\n",
      "(400, 500]    10\n",
      "(500, 600]     7\n",
      "dtype: int64\n"
     ]
    }
   ],
   "source": [
    "for value in wnba['PTS']:\n",
    "    for interval in intervals:\n",
    "        if value in interval:\n",
    "            gr_freq_table.loc[interval] += 1\n",
    "            break\n",
    "print(gr_freq_table)"
   ]
  },
  {
   "cell_type": "markdown",
   "metadata": {},
   "source": [
    "Check the work. There are 143 players in the data set, so the frequencies should add up to 143:"
   ]
  },
  {
   "cell_type": "code",
   "execution_count": 60,
   "metadata": {},
   "outputs": [
    {
     "name": "stdout",
     "output_type": "stream",
     "text": [
      "143\n"
     ]
    }
   ],
   "source": [
    "print(gr_freq_table.sum())"
   ]
  },
  {
   "cell_type": "markdown",
   "metadata": {},
   "source": [
    "Interval range with different paraneters:"
   ]
  },
  {
   "cell_type": "code",
   "execution_count": 61,
   "metadata": {},
   "outputs": [
    {
     "name": "stdout",
     "output_type": "stream",
     "text": [
      "(0, 60]       30\n",
      "(60, 120]     25\n",
      "(120, 180]    17\n",
      "(180, 240]    22\n",
      "(240, 300]    15\n",
      "(300, 360]     7\n",
      "(360, 420]    11\n",
      "(420, 480]     7\n",
      "(480, 540]     4\n",
      "(540, 600]     5\n",
      "dtype: int64\n"
     ]
    }
   ],
   "source": [
    "intervals = pd.interval_range(start = 0, end = 600, freq = 60)\n",
    "\n",
    "gr_freq_table_10 = pd.Series([0,0,0,0,0,0,0,0,0,0], index = intervals)\n",
    "\n",
    "for value in wnba[\"PTS\"]:\n",
    "    for interval in intervals:\n",
    "        if value in interval:\n",
    "            gr_freq_table_10.loc[interval] += 1\n",
    "\n",
    "print(gr_freq_table_10)"
   ]
  },
  {
   "cell_type": "markdown",
   "metadata": {},
   "source": [
    "## Visualizing Frequency"
   ]
  },
  {
   "cell_type": "code",
   "execution_count": 62,
   "metadata": {},
   "outputs": [
    {
     "data": {
      "text/plain": [
       "Text(0, 0.5, '')"
      ]
     },
     "execution_count": 62,
     "metadata": {},
     "output_type": "execute_result"
    },
    {
     "data": {
      "image/png": "[encoded data removed]",
      "text/plain": [
       "<Figure size 432x288 with 1 Axes>"
      ]
     },
     "metadata": {},
     "output_type": "display_data"
    }
   ],
   "source": [
    "wnba['Pos'].value_counts().plot.pie(title = \"Frequency of Positions\",autopct = '%.1f%%')\n",
    "\n",
    "#remove label\n",
    "plt.ylabel(\"\")"
   ]
  },
  {
   "cell_type": "code",
   "execution_count": 63,
   "metadata": {},
   "outputs": [
    {
     "data": {
      "text/plain": [
       "<matplotlib.axes._subplots.AxesSubplot at 0x249bebd9390>"
      ]
     },
     "execution_count": 63,
     "metadata": {},
     "output_type": "execute_result"
    },
    {
     "data": {
      "image/png": "[encoded data removed]",
      "text/plain": [
       "<Figure size 432x288 with 1 Axes>"
      ]
     },
     "metadata": {
      "needs_background": "light"
     },
     "output_type": "display_data"
    }
   ],
   "source": [
    "wnba['Experience'].value_counts().plot.bar(rot = 45, title = \"Frequency of Years of Experience\")"
   ]
  },
  {
   "cell_type": "code",
   "execution_count": 64,
   "metadata": {},
   "outputs": [
    {
     "data": {
      "text/plain": [
       "<matplotlib.axes._subplots.AxesSubplot at 0x249bec70a58>"
      ]
     },
     "execution_count": 64,
     "metadata": {},
     "output_type": "execute_result"
    },
    {
     "data": {
      "image/png": "[encoded data removed]",
      "text/plain": [
       "<Figure size 432x288 with 1 Axes>"
      ]
     },
     "metadata": {
      "needs_background": "light"
     },
     "output_type": "display_data"
    }
   ],
   "source": [
    "wnba['PTS'].plot.hist(title = \"Frequency of Points Scored\")"
   ]
  },
  {
   "cell_type": "code",
   "execution_count": 65,
   "metadata": {},
   "outputs": [
    {
     "name": "stdout",
     "output_type": "stream",
     "text": [
      "(1.417, 60.2]     30\n",
      "(60.2, 118.4]     24\n",
      "(118.4, 176.6]    17\n",
      "(176.6, 234.8]    20\n",
      "(234.8, 293.0]    17\n",
      "(293.0, 351.2]     8\n",
      "(351.2, 409.4]    10\n",
      "(409.4, 467.6]     8\n",
      "(467.6, 525.8]     4\n",
      "(525.8, 584.0]     5\n",
      "Name: PTS, dtype: int64\n"
     ]
    },
    {
     "data": {
      "text/plain": [
       "<matplotlib.axes._subplots.AxesSubplot at 0x249bec6ab70>"
      ]
     },
     "execution_count": 65,
     "metadata": {},
     "output_type": "execute_result"
    },
    {
     "data": {
      "image/png": "[encoded data removed]",
      "text/plain": [
       "<Figure size 432x288 with 1 Axes>"
      ]
     },
     "metadata": {
      "needs_background": "light"
     },
     "output_type": "display_data"
    }
   ],
   "source": [
    "print(wnba['PTS'].value_counts(bins = 10).sort_index())\n",
    "\n",
    "from numpy import arange\n",
    "wnba['PTS'].plot.hist(grid = True, xticks = arange(2,585,58.2), rot = 30)"
   ]
  },
  {
   "cell_type": "markdown",
   "metadata": {},
   "source": [
    "Looking on the histogram above, we can extract the same information as from the grouped frequency table. We can see that there are 20 players in the interval (176.6, 234.8], 10 players in the interval (351.2, 409.4], etc."
   ]
  },
  {
   "cell_type": "code",
   "execution_count": 66,
   "metadata": {},
   "outputs": [
    {
     "data": {
      "text/plain": [
       "count    143.000000\n",
       "mean     201.790210\n",
       "std      153.381548\n",
       "min        2.000000\n",
       "25%       75.000000\n",
       "50%      177.000000\n",
       "75%      277.500000\n",
       "max      584.000000\n",
       "Name: PTS, dtype: float64"
      ]
     },
     "execution_count": 66,
     "metadata": {},
     "output_type": "execute_result"
    }
   ],
   "source": [
    "wnba['PTS'].describe()"
   ]
  },
  {
   "cell_type": "markdown",
   "metadata": {},
   "source": [
    "From the output of wnba['PTS'].describe() we can see that most of the values (75%) are distributed within a relatively narrow interval (between 2 and 277). This tells us that:\n",
    "\n",
    "1. The values are distributed unevenly across the 2 - 584 range (2 is the minimum value in the PTS variable, and 584 is the maximum).\n",
    "2. Most values are clustered in the first (left) part of the the distribution's range.\n",
    "\n",
    "We can immediately see the same two patterns on the histogram above:\n",
    "\n",
    "1. The distribution of values is uneven, with each class interval having a different frequency. If the distribution was even, all the class intervals would have the same frequency.\n",
    "2. Most values (roughly three quarters) are clustered in the left half of the histogram."
   ]
  },
  {
   "cell_type": "code",
   "execution_count": 67,
   "metadata": {},
   "outputs": [
    {
     "name": "stdout",
     "output_type": "stream",
     "text": [
      "count    143.000000\n",
      "mean      24.356643\n",
      "std        7.104259\n",
      "min        2.000000\n",
      "25%       22.000000\n",
      "50%       27.000000\n",
      "75%       29.000000\n",
      "max       32.000000\n",
      "Name: Games Played, dtype: float64\n"
     ]
    },
    {
     "data": {
      "text/plain": [
       "<matplotlib.axes._subplots.AxesSubplot at 0x249bed585c0>"
      ]
     },
     "execution_count": 67,
     "metadata": {},
     "output_type": "execute_result"
    },
    {
     "data": {
      "image/png": "[encoded data removed]",
      "text/plain": [
       "<Figure size 432x288 with 1 Axes>"
      ]
     },
     "metadata": {
      "needs_background": "light"
     },
     "output_type": "display_data"
    }
   ],
   "source": [
    "print(wnba[\"Games Played\"].describe())\n",
    "\n",
    "wnba[\"Games Played\"].plot.hist(title = \"Distribution of the Games Played variable\")"
   ]
  },
  {
   "attachments": {
    "image.png": {
     "image/png": "[encoded data removed]"
    }
   },
   "cell_type": "markdown",
   "metadata": {},
   "source": [
    "We can see that 25% are in the higher end are closer to 30 games played. Meaning it is saturated on the higher end with players consistently playing.\n",
    "\n",
    "For nominal variables, values can't be numerically adjacent in principle, and we add gaps to emphasize that the values are fundamentally distinct.\n",
    "\n",
    "![image.png](attachment:image.png)"
   ]
  },
  {
   "cell_type": "code",
   "execution_count": 72,
   "metadata": {},
   "outputs": [
    {
     "data": {
      "text/plain": [
       "Text(0.5, 0, 'Games played')"
      ]
     },
     "execution_count": 72,
     "metadata": {},
     "output_type": "execute_result"
    },
    {
     "data": {
      "image/png": "[encoded data removed]",
      "text/plain": [
       "<Figure size 432x288 with 1 Axes>"
      ]
     },
     "metadata": {
      "needs_background": "light"
     },
     "output_type": "display_data"
    }
   ],
   "source": [
    "# Customize histogram for the Games Played\n",
    "wnba[\"Games Played\"].plot.hist(range = (1,32),bins = 8, title = \"The distribution of players by games played\", color = 'orange')\n",
    "plt.xlabel(\"Games played\")"
   ]
  },
  {
   "cell_type": "markdown",
   "metadata": {},
   "source": [
    "1. Most values pile up toward the endpoint of the range (32 games played).\n",
    "2. There are less and less values toward the opposite end (0 games played).\n",
    "\n",
    "## Comparing Frequency Distributions\n",
    "### Creating a new ordinal chart"
   ]
  },
  {
   "cell_type": "code",
   "execution_count": 105,
   "metadata": {},
   "outputs": [
    {
     "data": {
      "text/plain": [
       "Little experience    42\n",
       "Very experienced     37\n",
       "Experienced          25\n",
       "Rookie               23\n",
       "Veteran              16\n",
       "Name: Exp_ordinal, dtype: int64"
      ]
     },
     "execution_count": 105,
     "metadata": {},
     "output_type": "execute_result"
    }
   ],
   "source": [
    "#function to define levels of Points\n",
    "\n",
    "wnba[\"Experience\"] = wnba[\"Experience\"].replace(\"R\", 0)\n",
    "wnba[\"Experience\"] =pd.to_numeric(wnba[\"Experience\"])\n",
    "\n",
    "def make_exp_ordinal(row):\n",
    "    if row['Experience'] < 1:\n",
    "        return 'Rookie'\n",
    "    if (row['Experience'] <=  3):\n",
    "        return 'Little experience'\n",
    "    if (row['Experience'] <=  5):\n",
    "        return 'Experienced'\n",
    "    if (row['Experience'] <=  10):\n",
    "        return 'Very experienced'\n",
    "    if (row['Experience'] >  10):\n",
    "        return 'Veteran'\n",
    "    else:\n",
    "        return NaN\n",
    "    \n",
    "# #new column with new function applied\n",
    "wnba['Exp_ordinal'] = wnba.apply(make_exp_ordinal, axis = 1)\n",
    "wnba['Exp_ordinal'].value_counts()"
   ]
  },
  {
   "cell_type": "code",
   "execution_count": 106,
   "metadata": {},
   "outputs": [
    {
     "data": {
      "text/plain": [
       "<matplotlib.axes._subplots.AxesSubplot at 0x249bf4652e8>"
      ]
     },
     "execution_count": 106,
     "metadata": {},
     "output_type": "execute_result"
    },
    {
     "data": {
      "image/png": "[encoded data removed]",
      "text/plain": [
       "<Figure size 432x288 with 1 Axes>"
      ]
     },
     "metadata": {
      "needs_background": "light"
     },
     "output_type": "display_data"
    }
   ],
   "source": [
    "wnba[\"Exp_ordinal\"].value_counts().iloc[[3,0,2,1,4]].plot.barh(title = \"Number of players in WNBA by level of experience\")"
   ]
  },
  {
   "cell_type": "code",
   "execution_count": 107,
   "metadata": {},
   "outputs": [
    {
     "name": "stdout",
     "output_type": "stream",
     "text": [
      "G      14\n",
      "C       4\n",
      "F       4\n",
      "F/C     1\n",
      "Name: Pos, dtype: int64 \n",
      "\n",
      " G      14\n",
      "F      13\n",
      "C       8\n",
      "F/C     4\n",
      "G/F     3\n",
      "Name: Pos, dtype: int64 \n",
      "\n",
      " G      9\n",
      "C      6\n",
      "F      6\n",
      "F/C    2\n",
      "G/F    2\n",
      "Name: Pos, dtype: int64 \n",
      "\n",
      " G      16\n",
      "C       6\n",
      "F       6\n",
      "G/F     5\n",
      "F/C     4\n",
      "Name: Pos, dtype: int64 \n",
      "\n",
      " G      7\n",
      "F      4\n",
      "G/F    3\n",
      "C      1\n",
      "F/C    1\n",
      "Name: Pos, dtype: int64\n"
     ]
    }
   ],
   "source": [
    "#segment and generate a frequency distribution\n",
    "\n",
    "rookies = wnba[wnba['Exp_ordinal'] == 'Rookie']\n",
    "little_xp = wnba[wnba['Exp_ordinal'] == 'Little experience']\n",
    "experienced = wnba[wnba['Exp_ordinal'] == 'Experienced']\n",
    "very_xp = wnba[wnba['Exp_ordinal'] == 'Very experienced']\n",
    "veterans =  wnba[wnba['Exp_ordinal'] == 'Veteran']\n",
    "rookie_distro = rookies['Pos'].value_counts()\n",
    "little_xp_distro = little_xp['Pos'].value_counts()\n",
    "experienced_distro = experienced['Pos'].value_counts()\n",
    "very_xp_distro = very_xp['Pos'].value_counts()\n",
    "veteran_distro = veterans['Pos'].value_counts()\n",
    "\n",
    "print(rookie_distro, '\\n\\n', \n",
    "      little_xp_distro, '\\n\\n',\n",
    "      experienced_distro, '\\n\\n',\n",
    "      very_xp_distro, '\\n\\n',\n",
    "      veteran_distro)"
   ]
  },
  {
   "cell_type": "code",
   "execution_count": 118,
   "metadata": {},
   "outputs": [
    {
     "data": {
      "text/plain": [
       "<matplotlib.axes._subplots.AxesSubplot at 0x249c09c5630>"
      ]
     },
     "execution_count": 118,
     "metadata": {},
     "output_type": "execute_result"
    },
    {
     "data": {
      "image/png": "[encoded data removed]",
      "text/plain": [
       "<Figure size 432x288 with 1 Axes>"
      ]
     },
     "metadata": {
      "needs_background": "light"
     },
     "output_type": "display_data"
    }
   ],
   "source": [
    "#generate a grouped bar plot similar\n",
    "sns.countplot(x = \"Exp_ordinal\",\n",
    "              hue = \"Pos\",\n",
    "              data = wnba,\n",
    "              order = ['Rookie', 'Little experience', \"Experienced\", \"Very experienced\", \"Veteran\"],\n",
    "              hue_order = ['C', 'F', 'F/C', 'G', 'G/F'])"
   ]
  },
  {
   "cell_type": "markdown",
   "metadata": {},
   "source": [
    "--------------------------------------------------------------------------------------------------------------------------\n",
    "\n",
    "When players get past a certain age, they become less and less physically fit as they get older. Intuitively, the fitness level of a player should directly affect how much she plays in a season. On average, a WNBA player played approximately 497 minutes in the 2016-2017 season:\n"
   ]
  },
  {
   "cell_type": "code",
   "execution_count": 119,
   "metadata": {},
   "outputs": [
    {
     "name": "stdout",
     "output_type": "stream",
     "text": [
      "496.97202797202794\n"
     ]
    }
   ],
   "source": [
    "print(wnba['MIN'].mean())"
   ]
  },
  {
   "cell_type": "markdown",
   "metadata": {},
   "source": [
    "Let's hypothesize that older players generally play less than this average of 497 minutes, while younger players generally play more. As a benchmark to distinguish between younger and older players, we'll take the mean age of players in our sample, which is approximately 27:\n",
    "\n"
   ]
  },
  {
   "cell_type": "code",
   "execution_count": 120,
   "metadata": {},
   "outputs": [
    {
     "name": "stdout",
     "output_type": "stream",
     "text": [
      "27.076923076923077\n"
     ]
    }
   ],
   "source": [
    "print(wnba['Age'].mean())"
   ]
  },
  {
   "cell_type": "markdown",
   "metadata": {},
   "source": [
    "To test our hypothesis, we can generate a grouped bar plot to examine the frequency distribution of younger and older players that played under the average or as much as the average or above. "
   ]
  },
  {
   "cell_type": "code",
   "execution_count": 121,
   "metadata": {},
   "outputs": [],
   "source": [
    "#If the player is 27 or over, we'll label her \"old\", otherwise the label is \"young\"\n",
    "wnba['age_mean_relative'] = wnba['Age'].apply(lambda x: 'old' if x >= 27 else 'young')"
   ]
  },
  {
   "cell_type": "code",
   "execution_count": 123,
   "metadata": {},
   "outputs": [],
   "source": [
    "# If a player played 497 minutes or more, we'll assign her the label \"average or above\", otherwise we'll assign \"below average\"\n",
    "wnba['min_mean_relative'] = wnba[\"MIN\"].apply(lambda x: \"average or above\" if x>= 497 else \"below average\")"
   ]
  },
  {
   "cell_type": "code",
   "execution_count": 124,
   "metadata": {},
   "outputs": [
    {
     "data": {
      "text/plain": [
       "<matplotlib.axes._subplots.AxesSubplot at 0x249c0a5eeb8>"
      ]
     },
     "execution_count": 124,
     "metadata": {},
     "output_type": "execute_result"
    },
    {
     "data": {
      "image/png": "[encoded data removed]",
      "text/plain": [
       "<Figure size 432x288 with 1 Axes>"
      ]
     },
     "metadata": {
      "needs_background": "light"
     },
     "output_type": "display_data"
    }
   ],
   "source": [
    "sns.countplot(x = \"age_mean_relative\", \n",
    "              hue = \"min_mean_relative\",\n",
    "             data = wnba)"
   ]
  },
  {
   "cell_type": "markdown",
   "metadata": {},
   "source": [
    "Contrary to what our hypothesis predicted, the grouped bar plot we built showed that among old players the \"average or above\" category is the most numerous. Among young players we saw an opposite pattern: there are more players who played below the average number of minutes.\n",
    "\n",
    "We can see that more old players belong to the \"average or above\" category than to \"below average\", but we can't tell, for instance, whether old players generally play much more than the average. For all we know, they could have all played exactly 497 minutes (which is the average).\n",
    "\n",
    "The min_mean_relative variable is ordinal, and it was derived from the MIN variable, which is measured on a ratio scale. The information provided by the MIN variable is much more granular, and we can plot the distribution of this variable instead. Because the MIN variable is measured on a ratio scale, we'll need to use histograms instead of bar plots.\n"
   ]
  },
  {
   "cell_type": "code",
   "execution_count": 125,
   "metadata": {},
   "outputs": [
    {
     "data": {
      "text/plain": [
       "<matplotlib.axes._subplots.AxesSubplot at 0x249bf5360b8>"
      ]
     },
     "execution_count": 125,
     "metadata": {},
     "output_type": "execute_result"
    },
    {
     "data": {
      "image/png": "[encoded data removed]",
      "text/plain": [
       "<Figure size 432x288 with 1 Axes>"
      ]
     },
     "metadata": {
      "needs_background": "light"
     },
     "output_type": "display_data"
    }
   ],
   "source": [
    "wnba[wnba.Age >= 27]['MIN'].plot.hist(label = 'Old', legend = True)\n",
    "wnba[wnba.Age < 27]['MIN'].plot.hist(label = 'Young', legend = True)"
   ]
  },
  {
   "cell_type": "code",
   "execution_count": 129,
   "metadata": {},
   "outputs": [
    {
     "data": {
      "text/plain": [
       "<matplotlib.legend.Legend at 0x249bf618518>"
      ]
     },
     "execution_count": 129,
     "metadata": {},
     "output_type": "execute_result"
    },
    {
     "data": {
      "image/png": "[encoded data removed]",
      "text/plain": [
       "<Figure size 432x288 with 1 Axes>"
      ]
     },
     "metadata": {
      "needs_background": "light"
     },
     "output_type": "display_data"
    }
   ],
   "source": [
    "wnba[wnba.Age >= 27]['MIN'].plot.hist(histtype = 'step', label = 'Old', legend = True)\n",
    "wnba[wnba.Age < 27]['MIN'].plot.hist(histtype = 'step', label = 'Young', legend = True)\n",
    "plt.axvline(497, label = \"Average\", color = \"green\")\n",
    "plt.legend()"
   ]
  },
  {
   "cell_type": "markdown",
   "metadata": {},
   "source": [
    "We can now see that most of the old players that belong to the \"average or above\" category play significantly more than average. \n",
    "\n",
    "### Density Plot"
   ]
  },
  {
   "cell_type": "code",
   "execution_count": 131,
   "metadata": {},
   "outputs": [
    {
     "data": {
      "text/plain": [
       "<matplotlib.legend.Legend at 0x249c1ae2978>"
      ]
     },
     "execution_count": 131,
     "metadata": {},
     "output_type": "execute_result"
    },
    {
     "data": {
      "image/png": "[encoded data removed]",
      "text/plain": [
       "<Figure size 432x288 with 1 Axes>"
      ]
     },
     "metadata": {
      "needs_background": "light"
     },
     "output_type": "display_data"
    }
   ],
   "source": [
    "wnba[wnba[\"Age\"] >= 27][\"MIN\"].plot.kde(label = \"Old\", legend = \"True\")\n",
    "wnba[wnba[\"Age\"] < 27][\"MIN\"].plot.kde(label = \"Young\", legend = \"True\")\n",
    "plt.axvline(497, label = \"Average\", color = \"green\")\n",
    "plt.legend()"
   ]
  },
  {
   "cell_type": "markdown",
   "metadata": {},
   "source": [
    "Each of the smoothed histograms above is called a kernel density estimate plot or, shorter, kernel density plot. Unlike histograms, kernel density plots display densities on the y-axis instead of frequencies. The density values are actually probability values — which we'll be able to understand more about after the probability courses.\n",
    "\n",
    "We can still observe that most of the old players that belong to the \"average or above\" category play significantly more than average. With the help of the vertical line, the pattern is very easy to notice. Because the graph looks much cleaner than the one with step-type histograms, we can easily argue that the pattern is much more obvious in the case of kernel density plots.\n",
    "\n",
    "Determining whether centers are generally taller than forwards, whether forwards are generally shorter than guards, and so on. In the code below, we'll segment the data set by player position, and for each segment we'll generate a kernel density plot for the distribution of the Height variable:"
   ]
  },
  {
   "cell_type": "code",
   "execution_count": 132,
   "metadata": {},
   "outputs": [
    {
     "data": {
      "text/plain": [
       "<matplotlib.axes._subplots.AxesSubplot at 0x249c19ce0f0>"
      ]
     },
     "execution_count": 132,
     "metadata": {},
     "output_type": "execute_result"
    },
    {
     "data": {
      "image/png": "[encoded data removed]",
      "text/plain": [
       "<Figure size 432x288 with 1 Axes>"
      ]
     },
     "metadata": {
      "needs_background": "light"
     },
     "output_type": "display_data"
    }
   ],
   "source": [
    "wnba[wnba.Pos == 'F']['Height'].plot.kde(label = 'F', legend = True)\n",
    "wnba[wnba.Pos == 'C']['Height'].plot.kde(label = 'C', legend = True)\n",
    "wnba[wnba.Pos == 'G']['Height'].plot.kde(label = 'G', legend = True)\n",
    "wnba[wnba.Pos == 'G/F']['Height'].plot.kde(label = 'G/F', legend = True)\n",
    "wnba[wnba.Pos == 'F/C']['Height'].plot.kde(label = 'F/C', legend = True)"
   ]
  },
  {
   "cell_type": "markdown",
   "metadata": {},
   "source": [
    "If we look very closely, we can see a couple of clear patterns: the shortest players are generally guards, the tallest players are generally centers, mid-height players are generally forwards or play in a combined position, etc.\n",
    "\n",
    "### Stripplots\n",
    "\n",
    "This is one alternative we can use to visualize the distribution of heights as a function of player position:\n",
    "\n"
   ]
  },
  {
   "cell_type": "code",
   "execution_count": 136,
   "metadata": {},
   "outputs": [
    {
     "data": {
      "text/plain": [
       "<matplotlib.axes._subplots.AxesSubplot at 0x249c1de2470>"
      ]
     },
     "execution_count": 136,
     "metadata": {},
     "output_type": "execute_result"
    },
    {
     "data": {
      "image/png": "[encoded data removed]",
      "text/plain": [
       "<Figure size 432x288 with 1 Axes>"
      ]
     },
     "metadata": {
      "needs_background": "light"
     },
     "output_type": "display_data"
    }
   ],
   "source": [
    "# check height variable\n",
    "sns.stripplot(x = 'Pos',\n",
    "              y = 'Height',\n",
    "              data = wnba,\n",
    "              jitter = True)"
   ]
  },
  {
   "cell_type": "markdown",
   "metadata": {},
   "source": [
    "Patterns are now immediately visible. We can see on the graph that the shortest players are guards — in fact, all players under 180 cm are guards. The tallest players are centers — this is the only category with players above 2 meters. Among combined positions, we can see that F/C has slightly taller representatives — most likely because it requires center qualities (and we've seen that the tallest players are generally centers)."
   ]
  },
  {
   "cell_type": "code",
   "execution_count": 137,
   "metadata": {},
   "outputs": [
    {
     "data": {
      "text/plain": [
       "<matplotlib.axes._subplots.AxesSubplot at 0x249c1e864e0>"
      ]
     },
     "execution_count": 137,
     "metadata": {},
     "output_type": "execute_result"
    },
    {
     "data": {
      "image/png": "[encoded data removed]",
      "text/plain": [
       "<Figure size 432x288 with 1 Axes>"
      ]
     },
     "metadata": {
      "needs_background": "light"
     },
     "output_type": "display_data"
    }
   ],
   "source": [
    "# check weight variable\n",
    "sns.stripplot(x = \"Pos\",\n",
    "              y = \"Weight\",\n",
    "              jitter = True,\n",
    "              data = wnba)"
   ]
  },
  {
   "cell_type": "markdown",
   "metadata": {},
   "source": [
    "The patterns we see are strikingly similar to those we saw for heights. This can be easily explained by the fact that there's a strong positive relation between a player's height and her weight: the taller the player, the heavier she is; the shorter the player, the lighter she is.\n",
    "\n",
    "### Boxplots"
   ]
  },
  {
   "cell_type": "code",
   "execution_count": 138,
   "metadata": {},
   "outputs": [
    {
     "data": {
      "text/plain": [
       "<matplotlib.axes._subplots.AxesSubplot at 0x249c19264e0>"
      ]
     },
     "execution_count": 138,
     "metadata": {},
     "output_type": "execute_result"
    },
    {
     "data": {
      "image/png": "[encoded data removed]",
      "text/plain": [
       "<Figure size 432x288 with 1 Axes>"
      ]
     },
     "metadata": {
      "needs_background": "light"
     },
     "output_type": "display_data"
    }
   ],
   "source": [
    "# height\n",
    "sns.boxplot(x = 'Pos', y = 'Height', data = wnba)"
   ]
  },
  {
   "cell_type": "markdown",
   "metadata": {},
   "source": [
    "The few dots we see for the box plots of centers and guards/forwards (G/F) represent values in the distribution that are much larger or much lower than the rest of the values. A value that is much lower or much larger than the rest of the values in a distribution is a outlier."
   ]
  },
  {
   "cell_type": "code",
   "execution_count": 140,
   "metadata": {},
   "outputs": [
    {
     "data": {
      "text/plain": [
       "<matplotlib.axes._subplots.AxesSubplot at 0x249c20ef860>"
      ]
     },
     "execution_count": 140,
     "metadata": {},
     "output_type": "execute_result"
    },
    {
     "data": {
      "image/png": "[encoded data removed]",
      "text/plain": [
       "<Figure size 432x288 with 1 Axes>"
      ]
     },
     "metadata": {
      "needs_background": "light"
     },
     "output_type": "display_data"
    }
   ],
   "source": [
    "# weight\n",
    "sns.boxplot(x = 'Pos', y = 'Weight', data = wnba)"
   ]
  },
  {
   "attachments": {
    "image.png": {
     "image/png": "[encoded data removed]"
    }
   },
   "cell_type": "markdown",
   "metadata": {},
   "source": [
    "A value is an outlier if:\n",
    "\n",
    "It's larger than the upper quartile by 1.5 times the difference between the upper quartile and the lower quartile (the difference is also called the interquartile range).\n",
    "It's lower than the lower quartile by 1.5 times the difference between the upper quartile and the lower quartile (the difference is also called the interquartile range).\n",
    "\n",
    "![image.png](attachment:image.png)"
   ]
  },
  {
   "cell_type": "code",
   "execution_count": 141,
   "metadata": {},
   "outputs": [
    {
     "data": {
      "text/plain": [
       "count     25.000000\n",
       "mean     194.920000\n",
       "std        4.132392\n",
       "min      185.000000\n",
       "25%      193.000000\n",
       "50%      193.000000\n",
       "75%      196.000000\n",
       "max      206.000000\n",
       "Name: Height, dtype: float64"
      ]
     },
     "execution_count": 141,
     "metadata": {},
     "output_type": "execute_result"
    }
   ],
   "source": [
    "wnba[wnba['Pos'] == 'C']['Height'].describe()"
   ]
  },
  {
   "cell_type": "markdown",
   "metadata": {},
   "source": [
    "From the output of wnba[wnba['Pos'] == 'C']['Height'].describe(), we can see that the upper quartile (the 75th percentile) is 196 and the lower quartile (the 25th percentile) is 193. Hence, the interquartile range is 3.\n",
    "\n",
    "        interquartile range = 196 - 193 = 3\n",
    "        \n",
    "Every value that is 3 x 1.5 bigger than the upper quartile is considered an outlier 4.5, and the upper quartile is 196. This means that any value greater than 196 + 4.5 is considered an outlier.\n",
    "\n",
    "Similarly, every value that is 4.5 lower that the lower quartile is an outlier, and the lower quartile is 193. This means that any value less than 193 - 4.5 is an outlier."
   ]
  },
  {
   "cell_type": "code",
   "execution_count": 143,
   "metadata": {},
   "outputs": [
    {
     "name": "stdout",
     "output_type": "stream",
     "text": [
      "12\n",
      "0\n"
     ]
    },
    {
     "data": {
      "text/plain": [
       "<matplotlib.axes._subplots.AxesSubplot at 0x249c21d6748>"
      ]
     },
     "execution_count": 143,
     "metadata": {},
     "output_type": "execute_result"
    },
    {
     "data": {
      "image/png": "[encoded data removed]",
      "text/plain": [
       "<Figure size 432x288 with 1 Axes>"
      ]
     },
     "metadata": {
      "needs_background": "light"
     },
     "output_type": "display_data"
    }
   ],
   "source": [
    "#interquartile range\n",
    "iqr = 29 - 22\n",
    "\n",
    "lower_bound = 22 - (iqr * 1.5)\n",
    "upper_bound = 29 + (iqr * 1.5)\n",
    "\n",
    "#number of outliers\n",
    "outliers_low = print(sum(wnba[\"Games Played\"] < lower_bound))\n",
    "outliers_high = print(sum(wnba[\"Games Played\"] > upper_bound))\n",
    "\n",
    "#check using box plot for outliers\n",
    "sns.boxplot(wnba[\"Games Played\"])"
   ]
  },
  {
   "cell_type": "markdown",
   "metadata": {},
   "source": [
    "We can see that there are no outliers on the upper end which is correct based on our manual calculations as well. We see there are a lot of outliers on the lower side but we can't determine how much for sure."
   ]
  },
  {
   "cell_type": "code",
   "execution_count": null,
   "metadata": {},
   "outputs": [],
   "source": []
  }
 ],
 "metadata": {
  "kernelspec": {
   "display_name": "Python 3",
   "language": "python",
   "name": "python3"
  },
  "language_info": {
   "codemirror_mode": {
    "name": "ipython",
    "version": 3
   },
   "file_extension": ".py",
   "mimetype": "text/x-python",
   "name": "python",
   "nbconvert_exporter": "python",
   "pygments_lexer": "ipython3",
   "version": "3.7.1"
  },
  "toc": {
   "base_numbering": 1,
   "nav_menu": {},
   "number_sections": true,
   "sideBar": true,
   "skip_h1_title": false,
   "title_cell": "Table of Contents",
   "title_sidebar": "Contents",
   "toc_cell": false,
   "toc_position": {},
   "toc_section_display": true,
   "toc_window_display": false
  },
  "varInspector": {
   "cols": {
    "lenName": 16,
    "lenType": 16,
    "lenVar": 40
   },
   "kernels_config": {
    "python": {
     "delete_cmd_postfix": "",
     "delete_cmd_prefix": "del ",
     "library": "var_list.py",
     "varRefreshCmd": "print(var_dic_list())"
    },
    "r": {
     "delete_cmd_postfix": ") ",
     "delete_cmd_prefix": "rm(",
     "library": "var_list.r",
     "varRefreshCmd": "cat(var_dic_list()) "
    }
   },
   "types_to_exclude": [
    "module",
    "function",
    "builtin_function_or_method",
    "instance",
    "_Feature"
   ],
   "window_display": false
  }
 },
 "nbformat": 4,
 "nbformat_minor": 2
}
