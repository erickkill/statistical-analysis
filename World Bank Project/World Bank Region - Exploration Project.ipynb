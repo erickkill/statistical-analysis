{
 "cells": [
  {
   "cell_type": "markdown",
   "metadata": {},
   "source": [
    "# Data Analysis for North America and parts of Latin America\n",
    "\n",
    "In this assignment, I was tasked with conducting an analysis utilizing data from the World Bank.\n",
    "- Conduct an exploratory data analysis using Python\n",
    "- Develop a strategy for missing values and potential outliers\n",
    "- Find and present outliers\n",
    "- 9-12 minute presentation on findings\n",
    "\n",
    "Our countries include - Belize, Bermuda, Canada, Costa Rica, El Salvador, Guatemala, Honduras, Mexico, Nicaragua, Panama and United States."
   ]
  },
  {
   "cell_type": "markdown",
   "metadata": {},
   "source": [
    "## Import and read data\n",
    "File is read into Jupyter as a whole, and a subset dataframe will be created using our 'cool name' code = hot_rod. I will use the hot_rod dataframe throughout the rest of the assignment when referencing."
   ]
  },
  {
   "cell_type": "code",
   "execution_count": null,
   "metadata": {
    "code_folding": []
   },
   "outputs": [],
   "source": [
    "# Importing all necessary packages\n",
    "\n",
    "import pandas as pd\n",
    "import numpy as np\n",
    "import matplotlib.pyplot as plt\n",
    "import seaborn as sns"
   ]
  },
  {
   "cell_type": "code",
   "execution_count": null,
   "metadata": {
    "code_folding": []
   },
   "outputs": [],
   "source": [
    "# Reading our Excel Data Sheets\n",
    "\n",
    "# Master Data File \n",
    "# Sheets: Raw, Raw Pivot, Assignment, Assignment Pivot\n",
    "# Change index number to the 'Country Code'\n",
    "file_wdiw = \"WDIW.xlsx\"\n",
    "wdiw      = pd.read_excel(file_wdiw, index_col = 'Country Code')\n",
    "\n",
    "# Meta Data File \n",
    "# Sheets: Series - Metadata, Country - Metadata, Country-Series - Metadata, Series-Time - Metadata, FootNote\n",
    "\n",
    "file_wdimeta = \"WDI_Metadata.xlsx\"     \n",
    "wdimeta      = pd.read_excel(file_wdimeta)   # Reads Sheet: Series - Metadata\n",
    "\n",
    "# Interesting Data Sheets from Meta Data : Country - Metadata, FootNote\n",
    "\n",
    "wdimeta_country  = pd.read_excel(file_wdimeta, \"Country - Metadata\")\n",
    "wdimeta_footnote = pd.read_excel(file_wdimeta, \"FootNote\")"
   ]
  },
  {
   "cell_type": "code",
   "execution_count": null,
   "metadata": {
    "code_folding": [],
    "scrolled": true
   },
   "outputs": [],
   "source": [
    "# Assignment: Data of Team Hot Rod for Exploration\n",
    "region = wdiw[wdiw['Cool Name'] == 'Hot Rod']\n",
    "\n",
    "#Check it is correct\n",
    "region"
   ]
  },
  {
   "cell_type": "code",
   "execution_count": null,
   "metadata": {
    "code_folding": []
   },
   "outputs": [],
   "source": [
    "# Look at all Data Types and non-null values of our Data Set and create a specific Dataframe for our region\n",
    "hot_rod = pd.DataFrame(region)\n",
    "hot_rod.info()"
   ]
  },
  {
   "cell_type": "code",
   "execution_count": null,
   "metadata": {
    "code_folding": []
   },
   "outputs": [],
   "source": [
    "# Look at first 5 rows and see index\n",
    "hot_rod.head()"
   ]
  },
  {
   "cell_type": "code",
   "execution_count": null,
   "metadata": {
    "code_folding": []
   },
   "outputs": [],
   "source": [
    "#Check which columns are not null\n",
    "hot_rod.notnull().any()"
   ]
  },
  {
   "cell_type": "markdown",
   "metadata": {},
   "source": [
    "## Data Cleaning - Missing Values\n",
    "#### Missing values found through other sources include:\n",
    "1. [CIA, World Factbook](https://www.cia.gov/library/publications/the-world-factbook/)\n",
    "2. [United Nations Population Fund](https://www.unfpa.org/)\n",
    "3. [Indicators - World Bank Data - World Bank Group](https://data.worldbank.org/indicator)\n",
    "4. [Government of Bermuda](https://www.gov.bm/)\n",
    "\n",
    "### Below are missing values manually inputed:"
   ]
  },
  {
   "cell_type": "code",
   "execution_count": null,
   "metadata": {
    "code_folding": [
     0
    ]
   },
   "outputs": [],
   "source": [
    "# Values inputed in this cell represent individual manual inputs for their resepctive columns.\n",
    "# Using fillna() to determine which columns should be receiving the value found from our sources.\n",
    "\n",
    "missing_val_0 = 32.38\n",
    "hot_rod['Adolescent fertility rate (births per 1,000 women ages 15-19)'] = hot_rod['Adolescent fertility rate (births per 1,000 women ages 15-19)'].fillna(missing_val_0)\n",
    "\n",
    "missing_val_1 = 49.3\n",
    "hot_rod['Age dependency ratio (% of working-age population)'] = hot_rod['Age dependency ratio (% of working-age population)'].fillna(missing_val_1)\n",
    "\n",
    "missing_val_2 = 22.5\n",
    "hot_rod['Age dependency ratio, old (% of working-age population)'] = hot_rod['Age dependency ratio, old (% of working-age population)'].fillna(missing_val_2)\n",
    "\n",
    "missing_val_3 = 26.8\n",
    "hot_rod['Age dependency ratio, young (% of working-age population)'] = hot_rod['Age dependency ratio, old (% of working-age population)'].fillna(missing_val_3)\n",
    "\n",
    "missing_val_4 = 10.3\n",
    "hot_rod['Employment in industry (% of total employment) (modeled ILO estimate)'] = hot_rod['Employment in industry (% of total employment) (modeled ILO estimate)'].fillna(missing_val_4)\n",
    "\n",
    "missing_val_5 = 87.65\n",
    "hot_rod['Employment in services (% of total employment) (modeled ILO estimate)'] = hot_rod['Employment in services (% of total employment) (modeled ILO estimate)'].fillna(missing_val_5)\n",
    "\n",
    "missing_val_6 = 4700000000\n",
    "hot_rod['GDP (current US$)'] = hot_rod['GDP (current US$)'].fillna(missing_val_6)\n",
    "\n",
    "missing_val_7 = 2.5\n",
    "hot_rod['GDP growth (annual %)'] = hot_rod['GDP growth (annual %)'].fillna(missing_val_7)\n",
    "\n",
    "missing_val_8 = 17.04\n",
    "hot_rod['Population ages 0-14 (% of total population)'] = hot_rod['Population ages 0-14 (% of total population)'].fillna(missing_val_8)\n",
    "\n",
    "missing_val_9 = 64.98\n",
    "hot_rod['Population ages 15-64 (% of total population)'] = hot_rod['Population ages 15-64 (% of total population)'].fillna(missing_val_9)\n",
    "\n",
    "missing_val_10 = 17.98\n",
    "hot_rod['Population ages 65 and above (% of total population)'] = hot_rod['Population ages 15-64 (% of total population)'].fillna(missing_val_10)\n",
    "\n",
    "missing_val_11 = 3.09\n",
    "hot_rod['Population in the largest city (% of urban population)'] = hot_rod['Population in the largest city (% of urban population)'].fillna(missing_val_11)\n",
    "\n",
    "missing_val_12 = 36591\n",
    "hot_rod['Population, female'] = hot_rod['Population, female'].fillna(missing_val_12)\n",
    "\n",
    "missing_val_13 = 34273\n",
    "hot_rod['Population, male'] = hot_rod['Population, male'].fillna(missing_val_13)\n",
    "\n",
    "missing_val_14 = 0\n",
    "hot_rod['Rural population (% of total population)'] = hot_rod['Rural population (% of total population)'].fillna(missing_val_14)"
   ]
  },
  {
   "cell_type": "code",
   "execution_count": null,
   "metadata": {
    "code_folding": [
     0
    ]
   },
   "outputs": [],
   "source": [
    "#Manual fill in missing values for Canada and Mexico\n",
    "#filling in missing values for Canada\n",
    "hot_rod.loc[['CAN'],['Agriculture, forestry, and fishing, value added (% of GDP)']] = 1.68\n",
    "hot_rod.loc[['CAN'],['Industry (including construction), value added (% of GDP)']] = 8.51\n",
    "hot_rod.loc[['CAN'],['Services, value added (% of GDP)']] = 29.41\n",
    "\n",
    "#filling in missing values Education for Mexico column\n",
    "hot_rod.loc[['MEX'],['Educational attainment, Doctoral or equivalent, population 25+, total (%) (cumulative)']] = 0.1\n",
    "hot_rod.loc[['MEX'],[\"Educational attainment, at least Bachelor's or equivalent, population 25+, total (%) (cumulative)\"]] =15.4\n",
    "hot_rod.loc[['MEX'],[\"Educational attainment, at least Master's or equivalent, population 25+, total (%) (cumulative)\"]] = 1.5\n",
    "hot_rod.loc[['MEX'],[\"Educational attainment, at least completed lower secondary, population 25+, total (%) (cumulative)\"]] = 61.17\n",
    "hot_rod.loc[['MEX'],[\"Educational attainment, at least completed post-secondary, population 25+, total (%) (cumulative)\"]] = 15.84\n",
    "hot_rod.loc[['MEX'],[\"Educational attainment, at least completed primary, population 25+ years, total (%) (cumulative)\"]] =  81.42\n",
    "hot_rod.loc[['MEX'],[\"Educational attainment, at least completed short-cycle tertiary, population 25+, total (%) (cumulative)\"]] = 34.11\n",
    "hot_rod.loc[['MEX'],[\"Educational attainment, at least completed upper secondary, population 25+, total (%) (cumulative)\"]] = 34.11"
   ]
  },
  {
   "cell_type": "markdown",
   "metadata": {},
   "source": [
    "### Below are missing values inputed using a For Loop\n",
    "\n",
    "#### Steps to constructing For Loops:\n",
    "        1. Find missing values from an online source\n",
    "        2. Find corresponding column with missing values \n",
    "        3. Create a list of specific countries that are missing values from that column\n",
    "        4. Create a list of all values to be inputted into the column in the same order as the country list\n",
    "        5. Construct For Loop to fill in missing values"
   ]
  },
  {
   "cell_type": "code",
   "execution_count": null,
   "metadata": {
    "code_folding": [
     0
    ]
   },
   "outputs": [],
   "source": [
    "#Use for loops to fill missing values\n",
    "#filling in missing values Birth Attended column\n",
    "countries = ['BLZ', 'BMU', 'CAN', 'SLV','GTM','HND','MEX','NIC','PAN','USA']\n",
    "birth_numbers = [99,89,98,99,100,63,83,98,88,95,99]\n",
    "for (country_code, birth) in zip(countries, birth_numbers):\n",
    "    hot_rod.loc[[country_code],['Births attended by skilled health staff (% of total)']] = birth\n",
    "    \n",
    "#filling in missing values Tax Revenue column\n",
    "tax_countries = ['BMU','GTM', 'HND','MEX', 'PAN','USA']\n",
    "tax_list = [18.7,11.9,15.6,13.04,10.6,11.95]\n",
    "for (country_code, tax_num) in zip(tax_countries, tax_list): \n",
    "    hot_rod.loc[[country_code],['Tax revenue (% of GDP)']] = tax_num\n",
    "    \n",
    "#fill missging value for Age dependency ratio, young (% of working-age population)    \n",
    "age_countries = ['BLZ', 'BMU', 'CAN', 'SLV','GTM','HND','MEX','NIC','PAN','USA']\n",
    "age_nums = [47.93,26.8,23.58,31.19,42.58,58.17,51.26,40.80,47.44,42.22,28.69,39.44]\n",
    "for (x,y) in zip(age_countries, age_nums):\n",
    "    hot_rod.loc[[x],['Age dependency ratio, young (% of working-age population)']] = y\n",
    "    \n",
    "#fill missing values for doctoral education column\n",
    "doctor_countries = ['BMU', 'MEX', 'USA']\n",
    "doctor_nums = [1.28,0.08,1.85]\n",
    "for (x,y) in zip(doctor_countries, doctor_nums):\n",
    "    hot_rod.loc[[x],['Educational attainment, Doctoral or equivalent, population 25+, total (%) (cumulative)']] = y\n",
    "    \n",
    "#fill missing values for bachelor education column\n",
    "bach_countries = ['BMU','CRI','SLV','HND', 'MEX', 'USA']\n",
    "bach_nums = [31.11,20.63,7.12,10.5,14.71,33.44]\n",
    "for (x,y) in zip(bach_countries,bach_nums):\n",
    "    hot_rod.loc[[x],[\"Educational attainment, at least Bachelor's or equivalent, population 25+, total (%) (cumulative)\"]] = y\n",
    "\n",
    "#fill missing values for Masters education column\n",
    "masters_countries = ['BMU','CRI', 'MEX', 'USA']\n",
    "masters_nums = [9.99,2.65,21.86, 12.61]\n",
    "for (x,y) in zip(masters_countries , masters_nums):\n",
    "    hot_rod.loc[[x],[\"Educational attainment, at least Master's or equivalent, population 25+, total (%) (cumulative)\"]] = y\n",
    "    \n",
    "#fill missing values for lower secondary education column\n",
    "lowsec_countries = ['CRI','SLV','HND', 'MEX', 'USA']\n",
    "lowsec_nums = [53.11,43.25,33.70,59.71,95.59]\n",
    "for (x,y) in zip(lowsec_countries, lowsec_nums):\n",
    "    hot_rod.loc[[x],[\"Educational attainment, at least completed lower secondary, population 25+, total (%) (cumulative)\"]] = y\n",
    "    \n",
    "#fill missing values for post secondary education column\n",
    "postsec_countries = ['BMU','CRI','SLV','HND', 'MEX', 'USA']\n",
    "postsec_nums = [54.74,21.45,8.49,10.79,15.15,43.51]\n",
    "for (x,y) in zip(postsec_countries, postsec_nums):\n",
    "    hot_rod.loc[[x],[\"Educational attainment, at least completed post-secondary, population 25+, total (%) (cumulative)\"]] = y\n",
    "    \n",
    "#fill missing values for short tertiary education column\n",
    "ter_countries = ['CRI','SLV','HND', 'MEX', 'USA']\n",
    "ter_nums = [21.45,21.45,8.49,10.79,15.15,43.51]\n",
    "for (x,y) in zip(ter_countries, ter_nums):\n",
    "    hot_rod.loc[[x],[\"Educational attainment, at least completed short-cycle tertiary, population 25+, total (%) (cumulative)\"]] = y\n",
    "    \n",
    "#fill missing values for primary  education column\n",
    "pri_countries = ['CRI','SLV','HND', 'MEX', 'USA']\n",
    "pri_nums = [81.24, 58.65,61.29,80.11,98.88]\n",
    "for (x,y) in zip(pri_countries, pri_nums):\n",
    "    hot_rod.loc[[x],[\"Educational attainment, at least completed short-cycle tertiary, population 25+, total (%) (cumulative)\"]] = y\n",
    "    \n",
    "#fill missing values for upper  education column\n",
    "upper_countries = ['BMU','CRI','SLV','HND', 'MEX', 'USA']\n",
    "upper_nums = [87.45,38.30,30.34,24.69,33.29, 89.09]\n",
    "for (x,y) in zip(upper_countries, upper_nums):\n",
    "    hot_rod.loc[[x],[\"Educational attainment, at least completed upper secondary, population 25+, total (%) (cumulative)\"]] = y\n",
    "    \n",
    "#fill missing values for population column\n",
    "pop_countries = ['BLZ','BMU','CAN','CRI','SLV','GTM','HND', 'MEX','NIC','PAN', 'USA']\n",
    "pop_nums = [4.62,17.98,16.84, 9.25,8.24,4.70,4.57,7.04,5.05,7.91,15.42,8.64]\n",
    "for (x,y) in zip(pop_countries, pop_nums):\n",
    "    hot_rod.loc[[x],[\"Population ages 65 and above (% of total population)\"]] = y\n",
    "    \n",
    "#fill missing values for poverty headcount $1.90 column \n",
    "countries_190 = ['CRI','SLV','HND', 'PAN']\n",
    "nums_190 = [1,1.9,17.2,2.5]\n",
    "for (x,y) in zip(countries_190, nums_190):\n",
    "    hot_rod.loc[[x],[\"Poverty headcount ratio at $1.90 a day (2011 PPP) (% of population)\"]] = y\n",
    "    \n",
    "#fill missing values for poverty headcount $3.20 column\n",
    "countries_320 = ['CRI','SLV','HND', 'PAN']\n",
    "nums_320 = [2.7,8.5,31.6,6.3]\n",
    "for (x,y) in zip(countries_320, nums_320):\n",
    "    hot_rod.loc[[x],[\"Poverty headcount ratio at $3.20 a day (2011 PPP) (% of population)\"]] = y\n",
    "    \n",
    "#fill missing values for poverty national column\n",
    "countries_national = ['CRI','SLV','HND']\n",
    "nums_national = [20,29.2,64.3]\n",
    "for (x,y) in zip(countries_national, nums_national):\n",
    "    hot_rod.loc[[x],[\"Poverty headcount ratio at national poverty lines (% of population)\"]] = y\n",
    "    \n",
    "#fill missing values for HIV column\n",
    "countries_HIV = ['BLZ','CRI','SLV','GTM','HND','MEX','NIC',\"PAN\"]\n",
    "nums_HIV = [1.9,0.4,0.6,0.4,0.3,0.2,0.2,0.9]\n",
    "for (x,y) in zip(countries_HIV, nums_HIV):\n",
    "    hot_rod.loc[[x],[\"Prevalence of HIV, total (% of population ages 15-49)\"]] = y\n",
    "    \n",
    "#fill missing values for undernourishment column\n",
    "countries_undernourishment = ['BLZ','CAN','CRI','SLV','GTM','HND','MEX','NIC',\"PAN\",'USA']\n",
    "nums_undernourishment = [7.5,2.5,4.8,9,15.2,12.9,3.6,17,10,2.5]\n",
    "for (x,y) in zip(countries_undernourishment, nums_undernourishment):\n",
    "    hot_rod.loc[[x],[\"Prevalence of undernourishment (% of population)\"]] = y"
   ]
  },
  {
   "cell_type": "markdown",
   "metadata": {},
   "source": [
    "### Remaining Missing Values\n",
    "\n",
    "Although I found some missing data from third-party sources, I still didn't find  a lot of  data on education, economy and poverty. All three aspect are available at the world bank and third-party source, but they are not 2017.Data at different times would cause issues in our analysis, so I don't use past data.\n",
    "\n",
    "After investigation, we found that the reasons for the lack of data mainly include the following points.\n",
    "   1. Some indicators are derived from sporadic surveys and are only available every few years.\n",
    "   2. Some indicators and datasets do not include data on high - income countries. This typically occurs because of high - income countries are not World Bank borrowers and thus are not by report figures on topics such as debt and aid.\n",
    "         For example, Poverty data: The scope of poverty series focuses on developing countries (low and middle-income).\n",
    "   3. It is important to note that the UNPD does not produce population estimates for countries with fewer than 50000 inhabitants. So the world bank's databases are incomplete for countries with smaller populations.\n",
    "   4. Complete information had been collected in some countries, and, as a result of poor statistical information systems, may not always report them at the international level.\n",
    "\n",
    "In order to try address this issue we looked into options of creating a regression analysis and project potential 2017 numbers. However each country lacked vital data to use this process. Our initial approach was to get the data for missing columns for the previous 5 years from 2011 - 2016. The issue I ran into was that many of these countries had 1 or 2 values for a year but none had 5 consecutive years to conduct a viable projection for year 2017. This resulted in us trying to compute the average and use it as a placeholder but the data was too skewed since years prior to 2017 were not consistent enough to get a analysis.\n",
    "\n",
    "At this stage I made the decision to not analyze the missing columns in depth, otherwise any insights I would have determined would be speculating and will cause skews in our exploration.\n",
    "\n",
    "I also choose not to drop any columns using dropna() because there was still valuable data for a select few countries which I planned on exploring. If I had dropped columns with missing values, I wouldn't have gotten insights on key aspect to specific countries."
   ]
  },
  {
   "cell_type": "markdown",
   "metadata": {},
   "source": [
    "## Data Analysis\n",
    "Next I conduct our exploratory analysis on the new dataframe hot_rod, examining general observations and look for any key outliers in our dataset. Our analysis is broken down into 6 main categories. 5 of these categories can be referenced as a guide based on the [United Nations Sustainable Development Goals](https://sustainabledevelopment.un.org/?menu=1300)\n",
    "\n",
    "    1. General Exploration\n",
    "    2. Population (UNSDG)\n",
    "    3. Military (UNSDG)\n",
    "    4. Employment (UNSDG)\n",
    "    5. GDP (UNSDG)\n",
    "    6. Poverty/Health (UNSDG)\n",
    "\n",
    "Utiliziing our skills with matplot.lib and seaborn, I explore our data using a variety of data visualization tools - including: boxplots, scatterplots, barcharts, heatmaps, correlation & axline"
   ]
  },
  {
   "cell_type": "markdown",
   "metadata": {},
   "source": [
    "### General Exploration / Insights\n",
    "Below I explored the data before conducting in depth analysis."
   ]
  },
  {
   "cell_type": "code",
   "execution_count": null,
   "metadata": {
    "code_folding": []
   },
   "outputs": [],
   "source": [
    "# Look at electricity levels for the region\n",
    "electricity = hot_rod.iloc[:,4:7]\n",
    "electricity"
   ]
  },
  {
   "cell_type": "code",
   "execution_count": null,
   "metadata": {
    "code_folding": []
   },
   "outputs": [],
   "source": [
    "#GDP Growth\n",
    "gdp_growth = print(hot_rod[['GDP growth (annual %)']])\n",
    "gdp_growth"
   ]
  },
  {
   "cell_type": "code",
   "execution_count": null,
   "metadata": {
    "code_folding": []
   },
   "outputs": [],
   "source": [
    "# distribution between males and females\n",
    "gender = print(hot_rod[['Population, female','Population, male','Population, total']])"
   ]
  },
  {
   "cell_type": "code",
   "execution_count": null,
   "metadata": {
    "code_folding": []
   },
   "outputs": [],
   "source": [
    "#check if there is a positive growth in population\n",
    "hot_rod['Population growth (annual %)'] > 0\n",
    "#Bermuda is negative"
   ]
  },
  {
   "cell_type": "code",
   "execution_count": null,
   "metadata": {
    "code_folding": []
   },
   "outputs": [],
   "source": [
    "#check if there are any small countries in the data set under a million population\n",
    "hot_rod['Population, total'] < 1000000"
   ]
  },
  {
   "cell_type": "code",
   "execution_count": null,
   "metadata": {
    "code_folding": []
   },
   "outputs": [],
   "source": [
    "# check smallest country in descending order by size\n",
    "size_country = hot_rod['Surface area (sq. km)']\n",
    "size_country.sort_values()\n",
    "#Bermuda has a very small size"
   ]
  },
  {
   "cell_type": "markdown",
   "metadata": {},
   "source": [
    "Based on our exploration of the dataset before diving deeper into specific outliers and categories I found important insights to our region which helped provide us a direction for more analysis.\n",
    "\n",
    "The following sources were consulted to understand the challenges (political, economic, military and societal) faced by the countries within North and Central America previous to analyzing the dataset.\n",
    "\n",
    "#### Some key insights are the following:\n",
    "\n",
    "1. Inequality and poverty is high in Central America countries. \n",
    "2. All countries have high access to electricity in all regions\n",
    "3. All have positive GDP growth rates\n",
    "4. All have a 48 - 51% distribution of males from population\n",
    "5. The Caribbean countries like Belize is vulnerable to climate change and natural disasters even with good economic development.\n",
    "6. The region includes Upper, Middle and Low-Income Countries.\n",
    "7. Countries like Guatemala have stable economic growth but no growth acceleration to close the gap between rich countries.\n",
    "8. There are countries with high economic growth, but poverty and inequality are high, such as Honduras.  \n",
    "9. Mexico has strong macroeconomic policies - 1) Privileged Geography, 2) Abundant Natural Capital, 3) Democracy allowing more political parties.\n",
    "10. Nicaragua has social and political unrest\n",
    "11. Panama is one of the fastest Growing economies, 7.2% between 2001 to 2013\n",
    "\n",
    " \n",
    "Sources:\n",
    "\n",
    "[Crime in Belize](https://www.sanpedrosun.com/crime-and-violence/2018/04/11/international-report-marks-belize-major-drug-trafficking-money-laundering-country/)<br></br>\n",
    "[Panama](https://www.worldbank.org/en/country/panama)<br></br>\n",
    "[Costa Rica](https://www.worldbank.org/en/country/costarica/overview)<br></br>\n",
    "[El Salvador](https://www.worldbank.org/en/country/elsalvador)<br></br>\n",
    "[Guatemala](https://www.worldbank.org/en/country/guatemala)<br></br>\n",
    "[Honduras](https://www.worldbank.org/en/country/honduras)<br></br>\n",
    "[Mexico](https://www.worldbank.org/en/country/mexico/publication/mexico-diagnostico-sistematico-de-pais)<br></br>\n",
    "[Nicaragua](https://www.worldbank.org/en/country/nicaragua)"
   ]
  },
  {
   "cell_type": "markdown",
   "metadata": {},
   "source": [
    "### Population Analysis\n",
    "This analysis is to look into how quality of life and population can be influenced by location and demographic trends."
   ]
  },
  {
   "cell_type": "code",
   "execution_count": null,
   "metadata": {
    "code_folding": [
     0
    ]
   },
   "outputs": [],
   "source": [
    "# Why are the fertility rates for adolescents so high for some, and not USA and Canada?\n",
    "x_value = hot_rod[\"Adolescent fertility rate (births per 1,000 women ages 15-19)\"]\n",
    "country_code = hot_rod['Country Name']\n",
    "\n",
    "chart = sns.barplot(country_code, x_value, data=hot_rod)\n",
    "chart.set_xticklabels(chart.get_xticklabels(), rotation=45, horizontalalignment='right')\n",
    "plt.axhline(y = 42.455699, label = 'World Average')\n",
    "plt.title('Adolescent Fertility Rate')\n",
    "plt.xlabel('Country')\n",
    "plt.ylabel('Per 1000s births')\n",
    "plt.savefig('Adolescent Fertility Rate.png')"
   ]
  },
  {
   "cell_type": "code",
   "execution_count": null,
   "metadata": {
    "code_folding": []
   },
   "outputs": [],
   "source": [
    "#Construct a Swarmplot to spot for any outliers for quality of health care\n",
    "x_v = hot_rod['Country Name']\n",
    "y_v = hot_rod['Births attended by skilled health staff (% of total)']\n",
    "sns.swarmplot(x=x_v,y=y_v, data = hot_rod).set_xticklabels(chart.get_xticklabels(), rotation=45, horizontalalignment='right')\n",
    "plt.xlabel('Country')\n",
    "plt.ylabel('Percent of total')\n",
    "plt.axhline(y = 92)\n",
    "plt.title('Births attended by skilled health staff')\n",
    "plt.savefig('Births attended by skilled health staff.png')"
   ]
  },
  {
   "cell_type": "markdown",
   "metadata": {},
   "source": [
    "#### **Insights:**\n",
    "\n",
    "Looking at the bar chart I can see that a lot of the Latin American countries have a high adolescent fertility rate. What this measures is how adolescent girls between the ages of 15-19 are giving birth. With this data, and looking at the scatter on the left, I can gather insights that the quality of health service support for these young girls especially in Honduras(outlier) is very poor. This is a cause for concern. Similarly Mexico and Panama also have high Fertility rates, but are below the world average from skilled staff. This can be worrying news, when young girls are giving birth but do not have the quality care they deserve.\n",
    "\n",
    "###### **Six Facts About Healthcare in Honduras**\n",
    "        1. Access to healthcare for families in Honduras is determined by poverty level, socioeconomic status.\n",
    "        2. One of the major barriers to receiving good healthcare in Honduras is lack of access to physicians.\n",
    "        3. The Honduran health system is made up of a private and public sector. \n",
    "        4. Unfortunately, the current health system is experiencing a crisis due to poor management.\n",
    "        5. Honduras implemented a different national health model in 2015 to aid impoverished and rural areas.\n",
    "        6. The Millennium Challenge Corporation (MCC) has started a $15.6 million.\n",
    "        \n",
    "Source: [Honduras Healthcare](https://borgenproject.org/healthcare-in-honduras/)"
   ]
  },
  {
   "cell_type": "code",
   "execution_count": null,
   "metadata": {
    "code_folding": [
     0
    ]
   },
   "outputs": [],
   "source": [
    "# Construct a swarmplot to spot any outliers in population density per sq. km\n",
    "x = hot_rod['Country Name']\n",
    "y = hot_rod['Population density (people per sq. km of land area)']\n",
    "sns.swarmplot(x=x,y=y, data = hot_rod).set_xticklabels(chart.get_xticklabels(), rotation=45, horizontalalignment='right')\n",
    "plt.xlabel('Country')\n",
    "plt.ylabel('People per sq. km of land area')\n",
    "plt.axhline(y = 59)\n",
    "plt.title('Population Density')\n",
    "plt.savefig('Population Density.png')"
   ]
  },
  {
   "cell_type": "code",
   "execution_count": null,
   "metadata": {
    "code_folding": []
   },
   "outputs": [],
   "source": [
    "# Construct a bar plot to compare the demographics between young and old population, and add world average as benchmark\n",
    "pop_plot = hot_rod.loc[:,\n",
    "                        ['Population ages 0-14 (% of total population)',\n",
    "                         'Population ages 65 and above (% of total population)']]\n",
    "\n",
    "pop_plot.plot.bar()\n",
    "plt.axhline(y = 25, color = 'blue')\n",
    "plt.axhline(y = 8.7, color = 'orange')"
   ]
  },
  {
   "cell_type": "code",
   "execution_count": null,
   "metadata": {
    "code_folding": [
     2
    ],
    "scrolled": true
   },
   "outputs": [],
   "source": [
    "# Construct a correlation heatmap to analysis to see if there is a relationship between location and life expectancy\n",
    "pop_growth = hot_rod.loc[:,\n",
    "                        ['Population density (people per sq. km of land area)',\n",
    "                         'Population living in slums (% of urban population)',\n",
    "                        'Urban population (% of total population)',\n",
    "                        'Life expectancy at birth, total (years)']].corr()\n",
    "\n",
    "pop_labels = ['Population density (people per sq. km of land area)',\n",
    "                        'Urban population (% of total population)',\n",
    "                        'Life expectancy at birth, total (years)']\n",
    "\n",
    "sns.heatmap(pop_growth, cmap=\"YlGnBu\", vmin=0, vmax=1).set_xticklabels(pop_labels,rotation=45, horizontalalignment='right')"
   ]
  },
  {
   "cell_type": "markdown",
   "metadata": {},
   "source": [
    "#### **Insights:**\n",
    "\n",
    "Based on information from the CDC, we can conclude that the rural areas in majority of the countries in our region, excluding the USA and Canada have poor access to healthcare services and basic health services. \n",
    "\n",
    "Access to basic healthcare in Central America largely depends on socioeconomic status and environment (urban or rural). El Salvador, Guatemala, and Honduras have worked to improve access and quality of care, particularly in rural settings. Despite improvements to health services and systems, rural populations still have difficulty accessing basic health services.\n",
    "\n",
    "I can see from this correlation, that urban population and life expectancy at birth are highly correlated at around 0.8 on the dark blue scale. This validates the assumptions the CDC provided that health care access is predominantly available to urban populations. An interesting insight is that the Bermuda has a 0% of their population living in rural areas. This is due to the fact the country is only 20.54 mi² and they don’t classify any areas in their country as rural. I can see from the data cells, that from our region Bermuda is 2nd highest in terms of expectancy age. Showing that with their smaller population and access to healthcare services they are living longer. Bermuda’s health spend was 11.5 per cent as a share of its GDP, behind only Switzerland at 12.4 per cent and the US at 17.2 per cent. The OECD average was 9.08 per cent.\n",
    "\n",
    "###### Source:\n",
    "\n",
    "[CDC Health- Central America](https://www.cdc.gov/immigrantrefugeehealth/profiles/central-american/healthcare-diet/index.html)<br></br>\n",
    "[Bermuda's Health](http://www.royalgazette.com/health/article/20190124/island-falls-behind-on-life-expectancy)"
   ]
  },
  {
   "cell_type": "markdown",
   "metadata": {},
   "source": [
    "### Military\n",
    "This analysis is to look into how the impact of military spending can play a big role in GDP growth.\n",
    "\n",
    "The variables that I would like to compare:\n",
    "    1. Armed forces personnel (% of total labor force) \n",
    "    2. Military expenditure (% of GDP)\n",
    "    3. GDP growth (annual %) \n",
    "    \n",
    "#### Imputing missing values:\n",
    "    1. Bermuda has only one military unit, The Bermuda Regiment, which is supported by U.K. We would like to consider the minimum of all the countries as their Armed forces Personnel.\n",
    "    2. Panama and Costa Rica have demilitarized due to distrust on military and it is also considered National Pride as a symbol of Peace. Costa Rica had internal conflicts and Panama abolished after United States invasion. Bermuda, Panama and Costa Rica do not spend on military. If they did it is very negligible (up to 0.05% of GDP). So the military expenditure is taken as zero."
   ]
  },
  {
   "cell_type": "code",
   "execution_count": null,
   "metadata": {
    "code_folding": [
     1
    ]
   },
   "outputs": [],
   "source": [
    "# Exploring Military Strength of the Region\n",
    "military = hot_rod.loc[:,[\"Country Name\",\"Armed forces personnel (% of total labor force)\",\\\n",
    "                             \"Military expenditure (% of GDP)\",\"GDP growth (annual %)\"]].round(2)\n",
    "\n",
    "# Imputing the Missing Values (Note: These are the missing values that we could not find)\n",
    "\n",
    "# Bermuda Armed Forces Personnel (Supported by U.K, The Bermuda Regiment)\n",
    "ber_armed = min(military[\"Armed forces personnel (% of total labor force)\"])\n",
    "military[\"Armed forces personnel (% of total labor force)\"] = military[\"Armed forces personnel (% of total labor force)\"].fillna(ber_armed)\n",
    "\n",
    "# Military Expediture\n",
    "mil_exp = 0  # These countries do not spend on military\n",
    "military[\"Military expenditure (% of GDP)\"] = military[\"Military expenditure (% of GDP)\"].fillna(mil_exp)\n",
    "\n",
    "#Check missing value\n",
    "military.isnull().any()"
   ]
  },
  {
   "cell_type": "code",
   "execution_count": null,
   "metadata": {
    "code_folding": []
   },
   "outputs": [],
   "source": [
    "# Get the row of World to compare the Military Strength\n",
    "world = wdiw.loc[[\"WLD\"],[\"Country Name\",\"Armed forces personnel (% of total labor force)\",\\\n",
    "                             \"Military expenditure (% of GDP)\",\"GDP growth (annual %)\"]].round(2)\n",
    "world"
   ]
  },
  {
   "cell_type": "code",
   "execution_count": null,
   "metadata": {
    "code_folding": []
   },
   "outputs": [],
   "source": [
    "# Plot a bar graph with the variables and compare with the world\n",
    "\n",
    "military.iloc[:,1:4].plot.bar()\n",
    "\n",
    "plt.axhline(y=0.8, color='blue', linestyle='dotted')\n",
    "plt.axhline(y=2.16, color='orange', linestyle='dotted')\n",
    "plt.axhline(y=3.17, color='green', linestyle='dotted')\n",
    "plt.xticks(rotation = 70)\n",
    "plt.title(\"Military Strength/Strategies\")\n",
    "\n",
    "plt.savefig(\"Military Strength.png\")\n",
    "plt.show()"
   ]
  },
  {
   "cell_type": "markdown",
   "metadata": {},
   "source": [
    "#### Insights:\n",
    "\n",
    "Now, I can subset world and plot the bar graph with the variables and add horizontal axis lines that give the values of the world. The lines have the same color code.\n",
    "\n",
    "I can observe that Military Strength of a country has great association with GDP Growth.\n",
    "\n",
    "Through external research to help validate our analysis we can conclude military strength has a Key Relation with Economic Growth\n",
    "\n",
    "#### External research:\n",
    "   1. Military Expenditure leads to decrease in GDP Growth\n",
    "   2. United States considers spending on military more that the world average, at the expense of lowering GDP.\n",
    "   3. Smaller countries consider military expense unnecessary. Some distrust and also consider it a National Pride as a symbol of peace.  \n",
    "   4. Smaller countries are supported by temporary military from other countries when needed.  \n",
    "   5. Panama and Costa Rica demilitarized and do not have military spending after United States invasion and Internal conflicts respectively.\n",
    "   6. Bermuda is supported by U.K and they only have a single military unit, The Bermuda Regiment.\n",
    "   7. The Caribbean region is doing well in terms of Economic Development but they are prone to natural disasters where soldiers play a crucial role.\n",
    "   8. Latin America and parts of Central America face the growing drug trafficking which lead to a lot of money laundering.\n",
    "       Ex: Issues like Panama not allowing U.S military to take base and fight against drug trafficking.\n",
    "\n",
    "Source:\n",
    "\n",
    "[Belize military support on natural disasters](https://insidedio.blog.gov.uk/2019/09/03/tropical-alliance-responding-to-an-environmental-and-mass-casualty-disaster-in-belize/)<br></br>\n",
    "[Demilitarization in Costa Rica and Panama due to distrust on military and recognized as a National Pride towards Peace](https://www.npr.org/2014/06/21/324057374/having-an-army-might-be-practical-but-its-not-obligatory)<br></br>\n",
    "[Drug Trafficking in Latin America](https://latinamericanpost.com/20104-drug-trafficking--the-growing-latin-american-business)"
   ]
  },
  {
   "cell_type": "markdown",
   "metadata": {},
   "source": [
    "### Employment\n",
    "This analysis is to look into the spread of different employment industries and the effects of the working population on the labor force."
   ]
  },
  {
   "cell_type": "code",
   "execution_count": null,
   "metadata": {
    "code_folding": []
   },
   "outputs": [],
   "source": [
    "#Display Age Dependency Columns\n",
    "agedep_ratio = hot_rod.loc[: ,['Age dependency ratio (% of working-age population)',\n",
    "                               'Age dependency ratio, old (% of working-age population)',\n",
    "                               'Age dependency ratio, young (% of working-age population)']]\n",
    "print(agedep_ratio)"
   ]
  },
  {
   "cell_type": "markdown",
   "metadata": {},
   "source": [
    "**Age Dependency**\n",
    "\n",
    "Age dependency ratio is the ratio of people younger than 15 and older than 64 versus the working age population. In essence, this metric gives us an overview of the number of employed people supporting non-working people. To compute for ratio, we get the total number of dependents divided by the number of working population, multiplied by 100."
   ]
  },
  {
   "cell_type": "code",
   "execution_count": null,
   "metadata": {
    "code_folding": []
   },
   "outputs": [],
   "source": [
    "#Describe Columns and Check\n",
    "print(agedep_ratio.describe())\n",
    "agedep_ratio.plot.bar(legend=None)\n",
    "plt.axhline(y=54, color='blue', linestyle='dotted')\n",
    "plt.axhline(y=13, color='orange', linestyle='dotted')\n",
    "plt.axhline(y=40, color='green', linestyle='dotted')\n",
    "plt.ylabel('Percentage of working population')\n",
    "plt.show()"
   ]
  },
  {
   "cell_type": "code",
   "execution_count": null,
   "metadata": {
    "code_folding": []
   },
   "outputs": [],
   "source": [
    "# Create a figure instance\n",
    "age_fig = plt.figure(1, figsize=(9, 6))\n",
    "\n",
    "# Create an axes instance\n",
    "age_ax = age_fig.add_subplot(111)\n",
    "\n",
    "# Create the boxplot\n",
    "sns.boxplot(data = agedep_ratio)\n",
    "\n",
    "#Label the axes\n",
    "age_ax.set_xticklabels(['Age Dependency Ratio', 'Age Dependency Ratio (Old)', 'Age Dependency Ratio (Young)'])"
   ]
  },
  {
   "cell_type": "markdown",
   "metadata": {},
   "source": [
    "#### Insights:\n",
    "Generally, all countries in the region have a relatively high age dependency ratio. An outlier to take note of is Guatemala, who is seen as the highest at 66%. When I take a further look, I can see that this was mainly due to the high number of people age < 15. Another observation are Canada and US where both have a high age dependency ratio for population ages 64 and above and low age dependency ratio for ages 15 and below. This can have a negative implication in the economy in the long run.\n",
    "\n",
    "##### Economical Implications in the long run:\n",
    " 1. As the non-working population increases, those who are working are likely subject to increased taxes to compensate for larger dependent population.\n",
    " 2. As the working population reaches retirement, savings increase, and in turn, decrease long-term interest rates.\n",
    " 3. When there is a growing labor force, housing prices increase.\n",
    " 4. However, if savings decrease, fewer funds are allocated to finance investment projects such as housing, and eventually decreases investment in physical capital.\n",
    " 5. Consumption patterns also change. An increase in the elderly population influences consumption from certain goods towards healthcare services and leisure.\n",
    " 6. Most importantly, if there is an increase in the elderly population, chances are fertility rates will decrease and eventually labor force, thus leading to lower economic growth."
   ]
  },
  {
   "cell_type": "code",
   "execution_count": null,
   "metadata": {
    "code_folding": []
   },
   "outputs": [],
   "source": [
    "#Age Dependency Ratio Vs. GDP\n",
    "gdp_agedep = hot_rod.loc[:,['GDP growth (annual %)','Age dependency ratio (% of working-age population)']]\n",
    "\n",
    "print(gdp_agedep)\n",
    "gdp_agedep.plot.bar()"
   ]
  },
  {
   "cell_type": "markdown",
   "metadata": {},
   "source": [
    "**Employment by Sector**\n",
    "\n",
    "In this section, I will be taking a look at three types of employment: agriculture, industry and in services. Agriculture consists of activities agriculture, forestry, hunting and fishing. The industry sector consists of activities mining, manufacturing, construction and public utilities. Lastly, the services sector consists of wholesale, retail trade, restaurants and hotels, transportation, real estate, and many more."
   ]
  },
  {
   "cell_type": "code",
   "execution_count": null,
   "metadata": {
    "code_folding": [
     2
    ]
   },
   "outputs": [],
   "source": [
    "#Create a bar plot to compare different industrys in employment\n",
    "employ_to_plot = hot_rod.loc[:,\n",
    "                        ['Employment in agriculture (% of total employment) (modeled ILO estimate)',\n",
    "                         'Employment in industry (% of total employment) (modeled ILO estimate)',\n",
    "                         'Employment in services (% of total employment) (modeled ILO estimate)']]\n",
    "print(employ_to_plot)\n",
    "employ_to_plot.plot.bar(legend=None)\n",
    "plt.axhline(y=28, color='blue', linestyle='dotted')\n",
    "plt.axhline(y=23, color='orange', linestyle='dotted')\n",
    "plt.axhline(y=49, color='green', linestyle='dotted')\n",
    "plt.ylabel('% of total employment')"
   ]
  },
  {
   "cell_type": "code",
   "execution_count": null,
   "metadata": {
    "code_folding": []
   },
   "outputs": [],
   "source": [
    "# Create a figure instance\n",
    "employ_fig = plt.figure(1, figsize=(9, 6))\n",
    "\n",
    "# Create an axes instance\n",
    "employ_ax = employ_fig.add_subplot(111)\n",
    "\n",
    "# Create the boxplot\n",
    "sns.boxplot(data = employ_to_plot)\n",
    "\n",
    "#Label the axes\n",
    "employ_ax.set_xticklabels(['Employment by Agriculture', 'Employment by Industry', 'Employment by Services'])"
   ]
  },
  {
   "cell_type": "markdown",
   "metadata": {},
   "source": [
    "#### Insights\n",
    "\n",
    "Taking a look at the graphs, all have a relatively high employment percentage in the services sector compared to agriculture and industry. One of the outliers we can see is Mexico’s high industrial activities. In the recent years, the government has been making initiatives to reinvigorate its economy by shifting towards more complex commodities such as automobiles and airplanes. Doing so attracts domestic and foreign companies to take root. Among the lowest in agriculture are country giants US and Canada. Both have vast land yet lack to fill the labor needs. For agriculture, on the other hand, Bermuda has no data. The country is prone to severe weather (lies in the hurricane belt), thus industrial and agricultural activities are limited and rely heavily on imports instead.\n",
    "\n",
    "#### Where does Latin America’s growth come from?\n",
    " 1. Latin America’s growth is growing faster than Asia\n",
    " 2. Almost 80 percent of Latin America’s GDP growth over the past 15 years has come from strong labor inputs reflecting growing populations rather than rising productivity.\n",
    " 3. Falling fertility rates will undermine employment-led growth. The end of the commodity-price boom that has helped fuel the region’s growth is another concern. \n",
    " 4. In addition, there is a risk of increased protectionism that could weaken the exports component of growth. \n",
    " 5. In the perspective of the US, their growth is a huge opportunity for trade and exports.\n",
    "\n",
    "Source:\n",
    "\n",
    "[Mexico’s growing labor force](https://napsintl.com/mexico-manufacturing-news/the-growing-labor-force-in-mexico/)<br></br>\n",
    "[McKinsey Source](https://www.mckinsey.com/~/media/mckinsey/featured%20insights/employment%20and%20growth/how%20to%20counter%20three%20threats%20to%20growth%20in%20latin%20america/mgi-discussion-paper-where-will-latin-americas-growth-come-from-april-2017.ashx)<br></br>\n",
    "[NEWS Source, Forbes](https://www.forbes.com/sites/kenrapoza/2019/03/27/latin-america-economy-now-growing-faster-than-asias/#7b25140d1a76)<br></br>\n",
    "[US industries and immigrants](https://www.cbsnews.com/news/illegal-immigrants-us-jobs-economy-farm-workers-taxes/)<br></br>\n",
    "[Canada’s agricultural labor shortage](https://modernfarmer.com/2019/07/canada-has-a-huge-agricultural-labor-shortage/)\n"
   ]
  },
  {
   "cell_type": "markdown",
   "metadata": {},
   "source": [
    "### GDP (Economy)\n",
    "This analysis is to look into GDP growth and the influence on population, and how different the construction industry affects the overall gdp of a country."
   ]
  },
  {
   "cell_type": "code",
   "execution_count": null,
   "metadata": {
    "code_folding": [
     1,
     2,
     5
    ]
   },
   "outputs": [],
   "source": [
    "#Develop a correlation heatmap to understand if there is a relationship between population growth and gdp growth\n",
    "growth_rate = hot_rod.loc[:,\n",
    "                        ['Population growth (annual %)',\n",
    "                         'Urban population growth (annual %)',\n",
    "                        'GDP growth (annual %)']].corr()\n",
    "growth_labels = ['Population growth (annual %)',\n",
    "                         'Urban population growth (annual %)',\n",
    "                        'GDP growth (annual %)']\n",
    "sns.heatmap(growth_rate, cmap=\"Greens\", vmin=0, vmax=1).set_xticklabels(growth_labels,rotation=45, horizontalalignment='right')"
   ]
  },
  {
   "cell_type": "markdown",
   "metadata": {},
   "source": [
    "Labor is a factor of production, and increase in labor force is due to the increase in population, then this may lead to increase in GDP,\n",
    "\n",
    "This is not always the case due to the following reasons:\n",
    "\n",
    "    1. Youth, working class and old people in population differ so the population growth doesn’t correlate with GDP Growth.\n",
    "    2. There could be unemployment and social conflicts.\n",
    "    3. There could be natural disasters that affect the GDP.\n",
    "\n",
    "Therefore, I are drawn to a conclusion that I need to find the major driver that has a significant influence on the GDP of countries in our region."
   ]
  },
  {
   "cell_type": "markdown",
   "metadata": {},
   "source": [
    "### Poverty\n",
    "This analysis is to look into the quality of health and poverty in a few countries. Lack of data from a majority of countries resulted in us focusing only on the countries that I had data on and compared them to each other to get a basic understanding on the situation."
   ]
  },
  {
   "cell_type": "code",
   "execution_count": null,
   "metadata": {
    "code_folding": [
     1
    ]
   },
   "outputs": [],
   "source": [
    "# Visualizing the relationship between Prevalence of undernourishment and Prevalence of HIV, total\n",
    "plt.scatter(x = 'Prevalence of undernourishment (% of population)',\n",
    "            y = 'Prevalence of HIV, total (% of population ages 15-49)',\n",
    "            alpha = 0.5,\n",
    "            cmap = 'bwr',\n",
    "            data = hot_rod)\n",
    "\n",
    "plt.savefig('HIV_undernourishment.png')\n",
    "plt.show()"
   ]
  },
  {
   "cell_type": "code",
   "execution_count": null,
   "metadata": {
    "code_folding": []
   },
   "outputs": [],
   "source": [
    "# Visualizing the relationship between Poverty headcount ratio at national poverty lines and Prevalence of HIV, total\n",
    "plt.scatter(x = 'Poverty headcount ratio at national poverty lines (% of population)',\n",
    "            y = 'Prevalence of HIV, total (% of population ages 15-49)',\n",
    "            alpha = 0.5,\n",
    "            cmap = 'bwr',\n",
    "            data = hot_rod)\n",
    "\n",
    "plt.savefig('HIV_headcountratio.png')\n",
    "plt.show()"
   ]
  },
  {
   "cell_type": "code",
   "execution_count": null,
   "metadata": {
    "code_folding": [
     1
    ]
   },
   "outputs": [],
   "source": [
    "#Display Undernourishment vs HIV\n",
    "Undernourishment_HIV = hot_rod.loc[: ,['Prevalence of undernourishment (% of population)',\n",
    "                               'Prevalence of HIV, total (% of population ages 15-49)']]\n",
    "print(Undernourishment_HIV)\n",
    "\n",
    "#Graph Undernourishment vs HIV\n",
    "\n",
    "print(Undernourishment_HIV.plot.bar())"
   ]
  },
  {
   "cell_type": "code",
   "execution_count": null,
   "metadata": {
    "code_folding": [
     1
    ]
   },
   "outputs": [],
   "source": [
    "#Display Undernourishment vs Poverty headcount ratio at national poverty lines\n",
    "Undernourishment_headcountratio = hot_rod.loc[['CRI','SLV','HND'] ,['Prevalence of undernourishment (% of population)',\n",
    "                               'Poverty headcount ratio at national poverty lines (% of population)']]\n",
    "print(Undernourishment_headcountratio)\n",
    "\n",
    "#Graph Undernourishment vs Poverty headcount ratio at national poverty lines\n",
    "print(Undernourishment_headcountratio.plot.bar())\n",
    "\n",
    "plt.savefig('Undernourishment_headcountratio.png')\n",
    "plt.show()"
   ]
  },
  {
   "cell_type": "code",
   "execution_count": null,
   "metadata": {
    "code_folding": []
   },
   "outputs": [],
   "source": [
    "#Display Undernourishment vs Poverty headcount ratio at national poverty lines\n",
    "\n",
    "Undernourishment_povertyratio = hot_rod.loc[['CRI','SLV','HND'] ,['Prevalence of undernourishment (% of population)',\n",
    "                               'Poverty headcount ratio at national poverty lines (% of population)', 'Poverty headcount ratio at $3.20 a day (2011 PPP) (% of population)', 'Poverty headcount ratio at $1.90 a day (2011 PPP) (% of population)' ]]\n",
    "print(Undernourishment_povertyratio)\n",
    "\n",
    "#Graph to analyze relationship between Undernourishment and Poverty headcount ratio at national poverty lines\n",
    "\n",
    "print(Undernourishment_povertyratio.plot.bar())\n",
    "\n",
    "\n",
    "plt.savefig('Undernourishment_povertyratio.png')\n",
    "plt.show()"
   ]
  },
  {
   "cell_type": "code",
   "execution_count": null,
   "metadata": {
    "code_folding": []
   },
   "outputs": [],
   "source": [
    "#Display Prevalence of HIV vs Poverty headcount ratio at national poverty lines\n",
    "HIV_povertyratio = hot_rod.loc[['CRI','SLV','HND'] ,['Poverty headcount ratio at national poverty lines (% of population)']]\n",
    "print(HIV_povertyratio)\n",
    "\n",
    "#Graph to analyze relationship between HVI and Poverty headcount ratio at national poverty lines\n",
    "\n",
    "print(HIV_povertyratio.plot.bar())\n",
    "\n",
    "\n",
    "plt.savefig('HIV_povertyratio.png')\n",
    "plt.show()"
   ]
  },
  {
   "cell_type": "markdown",
   "metadata": {},
   "source": [
    "#### Insights:\n",
    "\n",
    "In Costa Rica, El Salvador and Honduras I can see a percentage of the population below minimum level of dietary energy consumption (prevalence of undernourishment) shows the percentage of the population whose food intake is insufficient to meet dietary energy requirements continuously. Data is showing that these three countries the people that lives with less than 3.2 and 1.9 USD is high, meaning that food intake is insufficient to meet dietary energy requirements. Honduras occupies the first place, then El Salvador and in the third position Costa Rica. It is consistent also with the GDP % of the countries.\n",
    " \n",
    "Also, I can see a positive association between HIV and undernourishment. The poorest countries reflect a high level of HIV as a % of the population."
   ]
  },
  {
   "cell_type": "markdown",
   "metadata": {},
   "source": [
    "## Key Insights\n",
    "After my exploration of the World Bank dataset our main findings are below"
   ]
  },
  {
   "cell_type": "markdown",
   "metadata": {},
   "source": [
    "1. Military Strength has a Key Relation with Economic Growth.\n",
    "2. Lack of access to healthcare professionals can have long term effects on adolescent girls giving birth.\n",
    "3. Size of a country does not affect the quality of health and life expectancy, poverty and rural areas does.\n",
    "4. There is a positive association between HIV and undernourishment.\n",
    "5. Age dependency implies economic effects: the older decreases growth, while the young immigrate to look for better opportunities.\n",
    "6. Issues such as immigration, in the case of the US, contribute to low recorded employment in the agriculture sector\n",
    "7. Latin America’s overall economic growth is beneficial for the US because of trade and exports, and the rest of the world."
   ]
  },
  {
   "cell_type": "code",
   "execution_count": null,
   "metadata": {},
   "outputs": [],
   "source": []
  }
 ],
 "metadata": {
  "kernelspec": {
   "display_name": "Python 3",
   "language": "python",
   "name": "python3"
  },
  "language_info": {
   "codemirror_mode": {
    "name": "ipython",
    "version": 3
   },
   "file_extension": ".py",
   "mimetype": "text/x-python",
   "name": "python",
   "nbconvert_exporter": "python",
   "pygments_lexer": "ipython3",
   "version": "3.7.1"
  },
  "toc": {
   "base_numbering": 1,
   "nav_menu": {},
   "number_sections": true,
   "sideBar": true,
   "skip_h1_title": false,
   "title_cell": "Table of Contents",
   "title_sidebar": "Contents",
   "toc_cell": false,
   "toc_position": {},
   "toc_section_display": true,
   "toc_window_display": false
  },
  "varInspector": {
   "cols": {
    "lenName": 16,
    "lenType": 16,
    "lenVar": 40
   },
   "kernels_config": {
    "python": {
     "delete_cmd_postfix": "",
     "delete_cmd_prefix": "del ",
     "library": "var_list.py",
     "varRefreshCmd": "print(var_dic_list())"
    },
    "r": {
     "delete_cmd_postfix": ") ",
     "delete_cmd_prefix": "rm(",
     "library": "var_list.r",
     "varRefreshCmd": "cat(var_dic_list()) "
    }
   },
   "types_to_exclude": [
    "module",
    "function",
    "builtin_function_or_method",
    "instance",
    "_Feature"
   ],
   "window_display": false
  }
 },
 "nbformat": 4,
 "nbformat_minor": 2
}
